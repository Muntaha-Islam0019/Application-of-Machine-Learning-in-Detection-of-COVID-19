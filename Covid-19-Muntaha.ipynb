{
 "cells": [
  {
   "cell_type": "markdown",
   "metadata": {
    "id": "uPos1oMmebbs"
   },
   "source": [
    "# **Dataset Directory**"
   ]
  },
  {
   "cell_type": "code",
   "execution_count": 1,
   "metadata": {},
   "outputs": [
    {
     "data": {
      "text/plain": [
       "'/device:GPU:0'"
      ]
     },
     "execution_count": 1,
     "metadata": {},
     "output_type": "execute_result"
    }
   ],
   "source": [
    "import tensorflow as tf\n",
    "tf.test.gpu_device_name()"
   ]
  },
  {
   "cell_type": "code",
   "execution_count": 2,
   "metadata": {
    "id": "n9hXcyEseWvh"
   },
   "outputs": [],
   "source": [
    "train_dir = \"D:/ResearchWork/Covid-19/data/train\"\n",
    "test_dir = \"D:/ResearchWork/Covid-19/data/Test\""
   ]
  },
  {
   "cell_type": "markdown",
   "metadata": {
    "id": "4Lc3j0zLetpb"
   },
   "source": [
    "# **Import**"
   ]
  },
  {
   "cell_type": "code",
   "execution_count": 3,
   "metadata": {
    "id": "y3Ul3vnNexbs"
   },
   "outputs": [],
   "source": [
    "import matplotlib.pyplot as plt\n",
    "import PIL\n",
    "from PIL import Image\n",
    "import tensorflow as tf\n",
    "import numpy as np\n",
    "import os\n",
    "import pandas as pd\n",
    "import random\n",
    "import seaborn as sns\n",
    "from tensorflow.python.keras.preprocessing.image import ImageDataGenerator\n",
    "from tensorflow.keras.optimizers import Adam, RMSprop\n",
    "from tensorflow.python.keras.models import Model, Sequential\n",
    "from tensorflow.python.keras.layers import Dense, Flatten, Dropout\n",
    "from sklearn.metrics import classification_report, confusion_matrix\n",
    "# vgg16\n",
    "from tensorflow.python.keras.applications.vgg16 import VGG16\n",
    "from tensorflow.python.keras.applications.vgg16 import preprocess_input, decode_predictions\n",
    "# inceptionv3\n",
    "from tensorflow.python.keras.applications.inception_v3 import InceptionV3 \n",
    "from tensorflow.python.keras.applications.inception_v3  import preprocess_input, decode_predictions\n",
    "# resnet50\n",
    "from tensorflow.python.keras.applications.resnet import ResNet50\n",
    "from tensorflow.python.keras.applications.resnet import preprocess_input, decode_predictions\n",
    "#Ensemble Model\n",
    "from tensorflow import keras\n",
    "from tensorflow.keras import layers"
   ]
  },
  {
   "cell_type": "markdown",
   "metadata": {
    "id": "5vqsqxs2pa3H"
   },
   "source": [
    "# **Useful Functions**"
   ]
  },
  {
   "cell_type": "code",
   "execution_count": 4,
   "metadata": {
    "id": "nOkK9XQafDFM"
   },
   "outputs": [],
   "source": [
    "def transferLayer(model,layer):\n",
    "  conv_model = Model(inputs=model.input, outputs=layer.output)   \n",
    "  # Start a new Keras Sequential model.\n",
    "  new_model = Sequential()\n",
    "\n",
    "  # Add the convolutional part of the VGG16 model from above.\n",
    "  new_model.add(conv_model)\n",
    "\n",
    "  # Flatten the output of the VGG16 model because it is from a convolutional layer.\n",
    "  new_model.add(Flatten())\n",
    "\n",
    "  # Add a dense (aka. fully-connected) layer.\n",
    "  # This is for combining features that the VGG16 model has recognized in the image.\n",
    "  new_model.add(Dropout(0.5))\n",
    "\n",
    "  new_model.add(Dense(512, activation='relu'))\n",
    "\n",
    "  # Add the final layer for the actual classification.\n",
    "  new_model.add(Dense(2, activation='softmax'))\n",
    "\n",
    "  return new_model\n",
    "\n",
    "def trainableLayers(model):\n",
    "  for i in range(len(list(model.layers))):\n",
    "    print(list(model.layers)[i].name)\n",
    "  return list(model.layers)[-1].name\n",
    "\n",
    "def history(model,generator_train,generator_val):\n",
    "  optimizer = Adam(lr=1e-5)\n",
    "  loss = 'categorical_crossentropy'\n",
    "  metrics = ['categorical_accuracy']\n",
    "  model.compile(optimizer=optimizer, loss=loss, metrics=metrics)\n",
    "  epochs = 40\n",
    "  steps_per_epoch = (generator_train.n/batch_size)/3\n",
    "  steps_val=generator_val.n/batch_size\n",
    "  history = model.fit_generator(generator=generator_train,\n",
    "                                    epochs=epochs,\n",
    "                                    steps_per_epoch=steps_per_epoch,\n",
    "                                    validation_data=generator_val,\n",
    "                                    validation_steps=steps_val)  \n",
    "  return history\n",
    "  \n",
    "def plotmodel(model):\n",
    "  return tf.keras.utils.plot_model(\n",
    "    model,\n",
    "    dpi=96,\n",
    ")"
   ]
  },
  {
   "cell_type": "code",
   "execution_count": 5,
   "metadata": {
    "id": "3-ubqpkF02_2"
   },
   "outputs": [],
   "source": [
    "input_shape=(224,224)"
   ]
  },
  {
   "cell_type": "markdown",
   "metadata": {
    "id": "TAOIQnQ4pe_Q"
   },
   "source": [
    "# **ImageDataGenerator**"
   ]
  },
  {
   "cell_type": "code",
   "execution_count": 6,
   "metadata": {
    "id": "HqBOAUC5h-DQ"
   },
   "outputs": [
    {
     "name": "stdout",
     "output_type": "stream",
     "text": [
      "Found 9672 images belonging to 2 classes.\n",
      "Found 4136 images belonging to 2 classes.\n"
     ]
    }
   ],
   "source": [
    "datagen_train = ImageDataGenerator(rescale=1./255)\n",
    "datagen_test = ImageDataGenerator(rescale=1./255)\n",
    "batch_size = 8\n",
    "generator_train = datagen_train.flow_from_directory(directory=train_dir,\n",
    "                                                    target_size=input_shape,\n",
    "                                                    batch_size=batch_size,\n",
    "                                                    shuffle=True)\n",
    "\n",
    "generator_test = datagen_test.flow_from_directory(directory=test_dir,\n",
    "                                                  target_size=input_shape,\n",
    "                                                  batch_size=batch_size,\n",
    "                                                  shuffle=False)"
   ]
  },
  {
   "cell_type": "markdown",
   "metadata": {},
   "source": [
    "# Graph Plotting"
   ]
  },
  {
   "cell_type": "code",
   "execution_count": 27,
   "metadata": {},
   "outputs": [],
   "source": [
    "def plotGraph(model_name,history):\n",
    "    \n",
    "    #Saving Paths\n",
    "    path=\"D:/ResearchWork/Covid-19/Diagrams/Graphs/\"\n",
    "    train_path=path+model_name+\"/Training Curve of \"+model_name+\".png\"\n",
    "    validation_path=path+model_name+\"/Validation Curve of \"+model_name+\".png\"\n",
    "    \n",
    "    #Training Curve\n",
    "    plt.grid()\n",
    "    plt.plot(history.history['loss'])\n",
    "    plt.plot(history.history['categorical_accuracy'])\n",
    "    plt.title('Training Curve of '+model_name)\n",
    "    plt.ylabel('Rate')\n",
    "    plt.xlabel('epoch')\n",
    "    plt.legend(['Loss', 'Accuracy'], loc='right')\n",
    "    plt.savefig(train_path,dpi=600,bbox_inches = 'tight')\n",
    "    plt.show()\n",
    "    \n",
    "    #Validation Curve\n",
    "    plt.grid()\n",
    "    plt.plot(history.history['val_loss'])\n",
    "    plt.plot(history.history['val_categorical_accuracy'])\n",
    "    plt.title('Validation Curve of '+model_name)\n",
    "    plt.ylabel('Rate')\n",
    "    plt.xlabel('epoch')\n",
    "    plt.legend(['Loss', 'Accuracy'], loc='right')\n",
    "    plt.savefig(validation_path,dpi=600,bbox_inches = 'tight')\n",
    "    plt.show()"
   ]
  },
  {
   "cell_type": "markdown",
   "metadata": {},
   "source": [
    "# Save History to CSV"
   ]
  },
  {
   "cell_type": "code",
   "execution_count": 30,
   "metadata": {},
   "outputs": [],
   "source": [
    "def history_to_CSV(model,h):\n",
    "    path=\"D:/ResearchWork/Covid-19/Excel_result/\"+model+\".csv\"\n",
    "    his=h.history\n",
    "    data=pd.DataFrame.from_dict(his)\n",
    "    data.to_csv(path)"
   ]
  },
  {
   "cell_type": "markdown",
   "metadata": {},
   "source": [
    "# Confusion Matrix & Classification Report"
   ]
  },
  {
   "cell_type": "code",
   "execution_count": 34,
   "metadata": {},
   "outputs": [],
   "source": [
    "def generate_report(model_name,model):\n",
    "    path=\"D:/ResearchWork/Covid-19/Diagrams/confusion_matrix/\"+model_name+\".jpeg\"\n",
    "    Y_pred = model.predict_generator(generator_test, generator_test.samples // generator_test.batch_size)\n",
    "    y_pred = np.argmax(Y_pred, axis=1)\n",
    "    confusionMatrix=confusion_matrix(generator_test.classes, y_pred)\n",
    "    fig, ax = plt.subplots(figsize=(6.5,6))\n",
    "    sns_plot=sns.heatmap(confusionMatrix, annot=True, ax=ax, fmt='g')\n",
    "    ax.xaxis.set_ticklabels(['Normal', 'Affected']) \n",
    "    ax.yaxis.set_ticklabels(['Normal', 'Affected'])\n",
    "    plt.savefig(path,dpi=400,bbox_inches = 'tight')\n",
    "    target_names = ['Normal','Affected']\n",
    "    print('Classification Report')\n",
    "    cr=classification_report(generator_test.classes, y_pred, target_names=target_names, digits=4)\n",
    "    print(cr)\n",
    "    text_path=\"D:/ResearchWork/Covid-19/Classification report/\"+model_name+\".txt\"\n",
    "    text_file = open(text_path, \"w\")\n",
    "    text_file.write(cr)\n",
    "    text_file.close()"
   ]
  },
  {
   "cell_type": "markdown",
   "metadata": {
    "id": "evWQyOkveioT"
   },
   "source": [
    "# **VGG16**"
   ]
  },
  {
   "cell_type": "code",
   "execution_count": 10,
   "metadata": {
    "id": "uaMhYWlSfOCr"
   },
   "outputs": [
    {
     "name": "stdout",
     "output_type": "stream",
     "text": [
      "input_1\n",
      "block1_conv1\n",
      "block1_conv2\n",
      "block1_pool\n",
      "block2_conv1\n",
      "block2_conv2\n",
      "block2_pool\n",
      "block3_conv1\n",
      "block3_conv2\n",
      "block3_conv3\n",
      "block3_pool\n",
      "block4_conv1\n",
      "block4_conv2\n",
      "block4_conv3\n",
      "block4_pool\n",
      "block5_conv1\n",
      "block5_conv2\n",
      "block5_conv3\n",
      "block5_pool\n",
      "Last Layer : block5_pool\n"
     ]
    }
   ],
   "source": [
    "model1 = VGG16(include_top=False,input_shape=(224, 224, 3), weights='imagenet')\n",
    "l1=trainableLayers(model1)\n",
    "print(\"Last Layer : \"+l1)"
   ]
  },
  {
   "cell_type": "code",
   "execution_count": 11,
   "metadata": {
    "id": "gFYuA_nIq4hJ"
   },
   "outputs": [],
   "source": [
    "layer1 = model1.get_layer(l1)\n",
    "vgg16=transferLayer(model1,layer1)"
   ]
  },
  {
   "cell_type": "code",
   "execution_count": 12,
   "metadata": {
    "id": "JgUML7fwoTHo"
   },
   "outputs": [
    {
     "name": "stdout",
     "output_type": "stream",
     "text": [
      "Model: \"sequential\"\n",
      "_________________________________________________________________\n",
      "Layer (type)                 Output Shape              Param #   \n",
      "=================================================================\n",
      "functional_1 (Functional)    (None, 7, 7, 512)         14714688  \n",
      "_________________________________________________________________\n",
      "flatten (Flatten)            (None, 25088)             0         \n",
      "_________________________________________________________________\n",
      "dropout (Dropout)            (None, 25088)             0         \n",
      "_________________________________________________________________\n",
      "dense (Dense)                (None, 512)               12845568  \n",
      "_________________________________________________________________\n",
      "dense_1 (Dense)              (None, 2)                 1026      \n",
      "=================================================================\n",
      "Total params: 27,561,282\n",
      "Trainable params: 27,561,282\n",
      "Non-trainable params: 0\n",
      "_________________________________________________________________\n"
     ]
    }
   ],
   "source": [
    "vgg16.summary()"
   ]
  },
  {
   "cell_type": "markdown",
   "metadata": {
    "id": "Hz8p0aM7pKTY"
   },
   "source": [
    "# Cross Validation-Vgg16"
   ]
  },
  {
   "cell_type": "code",
   "execution_count": 13,
   "metadata": {
    "id": "Gvwcqid9nTbv"
   },
   "outputs": [
    {
     "name": "stdout",
     "output_type": "stream",
     "text": [
      "WARNING:tensorflow:From <ipython-input-4-37359a7832a1>:36: Model.fit_generator (from tensorflow.python.keras.engine.training) is deprecated and will be removed in a future version.\n",
      "Instructions for updating:\n",
      "Please use Model.fit, which supports generators.\n",
      "Epoch 1/40\n",
      "  2/403 [..............................] - ETA: 18s - loss: 0.7004 - categorical_accuracy: 0.6250WARNING:tensorflow:Callbacks method `on_train_batch_end` is slow compared to the batch time (batch time: 0.0300s vs `on_train_batch_end` time: 0.0570s). Check your callbacks.\n",
      "403/403 [==============================] - ETA: 0s - loss: 0.2399 - categorical_accuracy: 0.9045"
     ]
    },
    {
     "ename": "KeyboardInterrupt",
     "evalue": "",
     "output_type": "error",
     "traceback": [
      "\u001b[1;31m---------------------------------------------------------------------------\u001b[0m",
      "\u001b[1;31mKeyboardInterrupt\u001b[0m                         Traceback (most recent call last)",
      "\u001b[1;32m<ipython-input-13-952aaf5b6e5e>\u001b[0m in \u001b[0;36m<module>\u001b[1;34m\u001b[0m\n\u001b[1;32m----> 1\u001b[1;33m \u001b[0mh1\u001b[0m\u001b[1;33m=\u001b[0m\u001b[0mhistory\u001b[0m\u001b[1;33m(\u001b[0m\u001b[0mvgg16\u001b[0m\u001b[1;33m,\u001b[0m\u001b[0mgenerator_train\u001b[0m\u001b[1;33m,\u001b[0m\u001b[0mgenerator_test\u001b[0m\u001b[1;33m)\u001b[0m\u001b[1;33m\u001b[0m\u001b[1;33m\u001b[0m\u001b[0m\n\u001b[0m",
      "\u001b[1;32m<ipython-input-4-37359a7832a1>\u001b[0m in \u001b[0;36mhistory\u001b[1;34m(model, generator_train, generator_val)\u001b[0m\n\u001b[0;32m     34\u001b[0m   \u001b[0msteps_per_epoch\u001b[0m \u001b[1;33m=\u001b[0m \u001b[1;33m(\u001b[0m\u001b[0mgenerator_train\u001b[0m\u001b[1;33m.\u001b[0m\u001b[0mn\u001b[0m\u001b[1;33m/\u001b[0m\u001b[0mbatch_size\u001b[0m\u001b[1;33m)\u001b[0m\u001b[1;33m/\u001b[0m\u001b[1;36m3\u001b[0m\u001b[1;33m\u001b[0m\u001b[1;33m\u001b[0m\u001b[0m\n\u001b[0;32m     35\u001b[0m   \u001b[0msteps_val\u001b[0m\u001b[1;33m=\u001b[0m\u001b[0mgenerator_val\u001b[0m\u001b[1;33m.\u001b[0m\u001b[0mn\u001b[0m\u001b[1;33m/\u001b[0m\u001b[0mbatch_size\u001b[0m\u001b[1;33m\u001b[0m\u001b[1;33m\u001b[0m\u001b[0m\n\u001b[1;32m---> 36\u001b[1;33m   history = model.fit_generator(generator=generator_train,\n\u001b[0m\u001b[0;32m     37\u001b[0m                                     \u001b[0mepochs\u001b[0m\u001b[1;33m=\u001b[0m\u001b[0mepochs\u001b[0m\u001b[1;33m,\u001b[0m\u001b[1;33m\u001b[0m\u001b[1;33m\u001b[0m\u001b[0m\n\u001b[0;32m     38\u001b[0m                                     \u001b[0msteps_per_epoch\u001b[0m\u001b[1;33m=\u001b[0m\u001b[0msteps_per_epoch\u001b[0m\u001b[1;33m,\u001b[0m\u001b[1;33m\u001b[0m\u001b[1;33m\u001b[0m\u001b[0m\n",
      "\u001b[1;32mD:\\Anaconda\\envs\\tf_gpu_env2\\lib\\site-packages\\tensorflow\\python\\util\\deprecation.py\u001b[0m in \u001b[0;36mnew_func\u001b[1;34m(*args, **kwargs)\u001b[0m\n\u001b[0;32m    322\u001b[0m               \u001b[1;34m'in a future version'\u001b[0m \u001b[1;32mif\u001b[0m \u001b[0mdate\u001b[0m \u001b[1;32mis\u001b[0m \u001b[1;32mNone\u001b[0m \u001b[1;32melse\u001b[0m \u001b[1;33m(\u001b[0m\u001b[1;34m'after %s'\u001b[0m \u001b[1;33m%\u001b[0m \u001b[0mdate\u001b[0m\u001b[1;33m)\u001b[0m\u001b[1;33m,\u001b[0m\u001b[1;33m\u001b[0m\u001b[1;33m\u001b[0m\u001b[0m\n\u001b[0;32m    323\u001b[0m               instructions)\n\u001b[1;32m--> 324\u001b[1;33m       \u001b[1;32mreturn\u001b[0m \u001b[0mfunc\u001b[0m\u001b[1;33m(\u001b[0m\u001b[1;33m*\u001b[0m\u001b[0margs\u001b[0m\u001b[1;33m,\u001b[0m \u001b[1;33m**\u001b[0m\u001b[0mkwargs\u001b[0m\u001b[1;33m)\u001b[0m\u001b[1;33m\u001b[0m\u001b[1;33m\u001b[0m\u001b[0m\n\u001b[0m\u001b[0;32m    325\u001b[0m     return tf_decorator.make_decorator(\n\u001b[0;32m    326\u001b[0m         \u001b[0mfunc\u001b[0m\u001b[1;33m,\u001b[0m \u001b[0mnew_func\u001b[0m\u001b[1;33m,\u001b[0m \u001b[1;34m'deprecated'\u001b[0m\u001b[1;33m,\u001b[0m\u001b[1;33m\u001b[0m\u001b[1;33m\u001b[0m\u001b[0m\n",
      "\u001b[1;32mD:\\Anaconda\\envs\\tf_gpu_env2\\lib\\site-packages\\tensorflow\\python\\keras\\engine\\training.py\u001b[0m in \u001b[0;36mfit_generator\u001b[1;34m(self, generator, steps_per_epoch, epochs, verbose, callbacks, validation_data, validation_steps, validation_freq, class_weight, max_queue_size, workers, use_multiprocessing, shuffle, initial_epoch)\u001b[0m\n\u001b[0;32m   1813\u001b[0m     \"\"\"\n\u001b[0;32m   1814\u001b[0m     \u001b[0m_keras_api_gauge\u001b[0m\u001b[1;33m.\u001b[0m\u001b[0mget_cell\u001b[0m\u001b[1;33m(\u001b[0m\u001b[1;34m'fit_generator'\u001b[0m\u001b[1;33m)\u001b[0m\u001b[1;33m.\u001b[0m\u001b[0mset\u001b[0m\u001b[1;33m(\u001b[0m\u001b[1;32mTrue\u001b[0m\u001b[1;33m)\u001b[0m\u001b[1;33m\u001b[0m\u001b[1;33m\u001b[0m\u001b[0m\n\u001b[1;32m-> 1815\u001b[1;33m     return self.fit(\n\u001b[0m\u001b[0;32m   1816\u001b[0m         \u001b[0mgenerator\u001b[0m\u001b[1;33m,\u001b[0m\u001b[1;33m\u001b[0m\u001b[1;33m\u001b[0m\u001b[0m\n\u001b[0;32m   1817\u001b[0m         \u001b[0msteps_per_epoch\u001b[0m\u001b[1;33m=\u001b[0m\u001b[0msteps_per_epoch\u001b[0m\u001b[1;33m,\u001b[0m\u001b[1;33m\u001b[0m\u001b[1;33m\u001b[0m\u001b[0m\n",
      "\u001b[1;32mD:\\Anaconda\\envs\\tf_gpu_env2\\lib\\site-packages\\tensorflow\\python\\keras\\engine\\training.py\u001b[0m in \u001b[0;36m_method_wrapper\u001b[1;34m(self, *args, **kwargs)\u001b[0m\n\u001b[0;32m    106\u001b[0m   \u001b[1;32mdef\u001b[0m \u001b[0m_method_wrapper\u001b[0m\u001b[1;33m(\u001b[0m\u001b[0mself\u001b[0m\u001b[1;33m,\u001b[0m \u001b[1;33m*\u001b[0m\u001b[0margs\u001b[0m\u001b[1;33m,\u001b[0m \u001b[1;33m**\u001b[0m\u001b[0mkwargs\u001b[0m\u001b[1;33m)\u001b[0m\u001b[1;33m:\u001b[0m\u001b[1;33m\u001b[0m\u001b[1;33m\u001b[0m\u001b[0m\n\u001b[0;32m    107\u001b[0m     \u001b[1;32mif\u001b[0m \u001b[1;32mnot\u001b[0m \u001b[0mself\u001b[0m\u001b[1;33m.\u001b[0m\u001b[0m_in_multi_worker_mode\u001b[0m\u001b[1;33m(\u001b[0m\u001b[1;33m)\u001b[0m\u001b[1;33m:\u001b[0m  \u001b[1;31m# pylint: disable=protected-access\u001b[0m\u001b[1;33m\u001b[0m\u001b[1;33m\u001b[0m\u001b[0m\n\u001b[1;32m--> 108\u001b[1;33m       \u001b[1;32mreturn\u001b[0m \u001b[0mmethod\u001b[0m\u001b[1;33m(\u001b[0m\u001b[0mself\u001b[0m\u001b[1;33m,\u001b[0m \u001b[1;33m*\u001b[0m\u001b[0margs\u001b[0m\u001b[1;33m,\u001b[0m \u001b[1;33m**\u001b[0m\u001b[0mkwargs\u001b[0m\u001b[1;33m)\u001b[0m\u001b[1;33m\u001b[0m\u001b[1;33m\u001b[0m\u001b[0m\n\u001b[0m\u001b[0;32m    109\u001b[0m \u001b[1;33m\u001b[0m\u001b[0m\n\u001b[0;32m    110\u001b[0m     \u001b[1;31m# Running inside `run_distribute_coordinator` already.\u001b[0m\u001b[1;33m\u001b[0m\u001b[1;33m\u001b[0m\u001b[1;33m\u001b[0m\u001b[0m\n",
      "\u001b[1;32mD:\\Anaconda\\envs\\tf_gpu_env2\\lib\\site-packages\\tensorflow\\python\\keras\\engine\\training.py\u001b[0m in \u001b[0;36mfit\u001b[1;34m(self, x, y, batch_size, epochs, verbose, callbacks, validation_split, validation_data, shuffle, class_weight, sample_weight, initial_epoch, steps_per_epoch, validation_steps, validation_batch_size, validation_freq, max_queue_size, workers, use_multiprocessing)\u001b[0m\n\u001b[0;32m   1121\u001b[0m                 \u001b[0mmodel\u001b[0m\u001b[1;33m=\u001b[0m\u001b[0mself\u001b[0m\u001b[1;33m,\u001b[0m\u001b[1;33m\u001b[0m\u001b[1;33m\u001b[0m\u001b[0m\n\u001b[0;32m   1122\u001b[0m                 steps_per_execution=self._steps_per_execution)\n\u001b[1;32m-> 1123\u001b[1;33m           val_logs = self.evaluate(\n\u001b[0m\u001b[0;32m   1124\u001b[0m               \u001b[0mx\u001b[0m\u001b[1;33m=\u001b[0m\u001b[0mval_x\u001b[0m\u001b[1;33m,\u001b[0m\u001b[1;33m\u001b[0m\u001b[1;33m\u001b[0m\u001b[0m\n\u001b[0;32m   1125\u001b[0m               \u001b[0my\u001b[0m\u001b[1;33m=\u001b[0m\u001b[0mval_y\u001b[0m\u001b[1;33m,\u001b[0m\u001b[1;33m\u001b[0m\u001b[1;33m\u001b[0m\u001b[0m\n",
      "\u001b[1;32mD:\\Anaconda\\envs\\tf_gpu_env2\\lib\\site-packages\\tensorflow\\python\\keras\\engine\\training.py\u001b[0m in \u001b[0;36m_method_wrapper\u001b[1;34m(self, *args, **kwargs)\u001b[0m\n\u001b[0;32m    106\u001b[0m   \u001b[1;32mdef\u001b[0m \u001b[0m_method_wrapper\u001b[0m\u001b[1;33m(\u001b[0m\u001b[0mself\u001b[0m\u001b[1;33m,\u001b[0m \u001b[1;33m*\u001b[0m\u001b[0margs\u001b[0m\u001b[1;33m,\u001b[0m \u001b[1;33m**\u001b[0m\u001b[0mkwargs\u001b[0m\u001b[1;33m)\u001b[0m\u001b[1;33m:\u001b[0m\u001b[1;33m\u001b[0m\u001b[1;33m\u001b[0m\u001b[0m\n\u001b[0;32m    107\u001b[0m     \u001b[1;32mif\u001b[0m \u001b[1;32mnot\u001b[0m \u001b[0mself\u001b[0m\u001b[1;33m.\u001b[0m\u001b[0m_in_multi_worker_mode\u001b[0m\u001b[1;33m(\u001b[0m\u001b[1;33m)\u001b[0m\u001b[1;33m:\u001b[0m  \u001b[1;31m# pylint: disable=protected-access\u001b[0m\u001b[1;33m\u001b[0m\u001b[1;33m\u001b[0m\u001b[0m\n\u001b[1;32m--> 108\u001b[1;33m       \u001b[1;32mreturn\u001b[0m \u001b[0mmethod\u001b[0m\u001b[1;33m(\u001b[0m\u001b[0mself\u001b[0m\u001b[1;33m,\u001b[0m \u001b[1;33m*\u001b[0m\u001b[0margs\u001b[0m\u001b[1;33m,\u001b[0m \u001b[1;33m**\u001b[0m\u001b[0mkwargs\u001b[0m\u001b[1;33m)\u001b[0m\u001b[1;33m\u001b[0m\u001b[1;33m\u001b[0m\u001b[0m\n\u001b[0m\u001b[0;32m    109\u001b[0m \u001b[1;33m\u001b[0m\u001b[0m\n\u001b[0;32m    110\u001b[0m     \u001b[1;31m# Running inside `run_distribute_coordinator` already.\u001b[0m\u001b[1;33m\u001b[0m\u001b[1;33m\u001b[0m\u001b[1;33m\u001b[0m\u001b[0m\n",
      "\u001b[1;32mD:\\Anaconda\\envs\\tf_gpu_env2\\lib\\site-packages\\tensorflow\\python\\keras\\engine\\training.py\u001b[0m in \u001b[0;36mevaluate\u001b[1;34m(self, x, y, batch_size, verbose, sample_weight, steps, callbacks, max_queue_size, workers, use_multiprocessing, return_dict)\u001b[0m\n\u001b[0;32m   1377\u001b[0m             \u001b[1;32mwith\u001b[0m \u001b[0mtrace\u001b[0m\u001b[1;33m.\u001b[0m\u001b[0mTrace\u001b[0m\u001b[1;33m(\u001b[0m\u001b[1;34m'TraceContext'\u001b[0m\u001b[1;33m,\u001b[0m \u001b[0mgraph_type\u001b[0m\u001b[1;33m=\u001b[0m\u001b[1;34m'test'\u001b[0m\u001b[1;33m,\u001b[0m \u001b[0mstep_num\u001b[0m\u001b[1;33m=\u001b[0m\u001b[0mstep\u001b[0m\u001b[1;33m)\u001b[0m\u001b[1;33m:\u001b[0m\u001b[1;33m\u001b[0m\u001b[1;33m\u001b[0m\u001b[0m\n\u001b[0;32m   1378\u001b[0m               \u001b[0mcallbacks\u001b[0m\u001b[1;33m.\u001b[0m\u001b[0mon_test_batch_begin\u001b[0m\u001b[1;33m(\u001b[0m\u001b[0mstep\u001b[0m\u001b[1;33m)\u001b[0m\u001b[1;33m\u001b[0m\u001b[1;33m\u001b[0m\u001b[0m\n\u001b[1;32m-> 1379\u001b[1;33m               \u001b[0mtmp_logs\u001b[0m \u001b[1;33m=\u001b[0m \u001b[0mtest_function\u001b[0m\u001b[1;33m(\u001b[0m\u001b[0miterator\u001b[0m\u001b[1;33m)\u001b[0m\u001b[1;33m\u001b[0m\u001b[1;33m\u001b[0m\u001b[0m\n\u001b[0m\u001b[0;32m   1380\u001b[0m               \u001b[1;32mif\u001b[0m \u001b[0mdata_handler\u001b[0m\u001b[1;33m.\u001b[0m\u001b[0mshould_sync\u001b[0m\u001b[1;33m:\u001b[0m\u001b[1;33m\u001b[0m\u001b[1;33m\u001b[0m\u001b[0m\n\u001b[0;32m   1381\u001b[0m                 \u001b[0mcontext\u001b[0m\u001b[1;33m.\u001b[0m\u001b[0masync_wait\u001b[0m\u001b[1;33m(\u001b[0m\u001b[1;33m)\u001b[0m\u001b[1;33m\u001b[0m\u001b[1;33m\u001b[0m\u001b[0m\n",
      "\u001b[1;32mD:\\Anaconda\\envs\\tf_gpu_env2\\lib\\site-packages\\tensorflow\\python\\eager\\def_function.py\u001b[0m in \u001b[0;36m__call__\u001b[1;34m(self, *args, **kwds)\u001b[0m\n\u001b[0;32m    778\u001b[0m       \u001b[1;32melse\u001b[0m\u001b[1;33m:\u001b[0m\u001b[1;33m\u001b[0m\u001b[1;33m\u001b[0m\u001b[0m\n\u001b[0;32m    779\u001b[0m         \u001b[0mcompiler\u001b[0m \u001b[1;33m=\u001b[0m \u001b[1;34m\"nonXla\"\u001b[0m\u001b[1;33m\u001b[0m\u001b[1;33m\u001b[0m\u001b[0m\n\u001b[1;32m--> 780\u001b[1;33m         \u001b[0mresult\u001b[0m \u001b[1;33m=\u001b[0m \u001b[0mself\u001b[0m\u001b[1;33m.\u001b[0m\u001b[0m_call\u001b[0m\u001b[1;33m(\u001b[0m\u001b[1;33m*\u001b[0m\u001b[0margs\u001b[0m\u001b[1;33m,\u001b[0m \u001b[1;33m**\u001b[0m\u001b[0mkwds\u001b[0m\u001b[1;33m)\u001b[0m\u001b[1;33m\u001b[0m\u001b[1;33m\u001b[0m\u001b[0m\n\u001b[0m\u001b[0;32m    781\u001b[0m \u001b[1;33m\u001b[0m\u001b[0m\n\u001b[0;32m    782\u001b[0m       \u001b[0mnew_tracing_count\u001b[0m \u001b[1;33m=\u001b[0m \u001b[0mself\u001b[0m\u001b[1;33m.\u001b[0m\u001b[0m_get_tracing_count\u001b[0m\u001b[1;33m(\u001b[0m\u001b[1;33m)\u001b[0m\u001b[1;33m\u001b[0m\u001b[1;33m\u001b[0m\u001b[0m\n",
      "\u001b[1;32mD:\\Anaconda\\envs\\tf_gpu_env2\\lib\\site-packages\\tensorflow\\python\\eager\\def_function.py\u001b[0m in \u001b[0;36m_call\u001b[1;34m(self, *args, **kwds)\u001b[0m\n\u001b[0;32m    812\u001b[0m       \u001b[1;31m# In this case we have not created variables on the first call. So we can\u001b[0m\u001b[1;33m\u001b[0m\u001b[1;33m\u001b[0m\u001b[1;33m\u001b[0m\u001b[0m\n\u001b[0;32m    813\u001b[0m       \u001b[1;31m# run the first trace but we should fail if variables are created.\u001b[0m\u001b[1;33m\u001b[0m\u001b[1;33m\u001b[0m\u001b[1;33m\u001b[0m\u001b[0m\n\u001b[1;32m--> 814\u001b[1;33m       \u001b[0mresults\u001b[0m \u001b[1;33m=\u001b[0m \u001b[0mself\u001b[0m\u001b[1;33m.\u001b[0m\u001b[0m_stateful_fn\u001b[0m\u001b[1;33m(\u001b[0m\u001b[1;33m*\u001b[0m\u001b[0margs\u001b[0m\u001b[1;33m,\u001b[0m \u001b[1;33m**\u001b[0m\u001b[0mkwds\u001b[0m\u001b[1;33m)\u001b[0m\u001b[1;33m\u001b[0m\u001b[1;33m\u001b[0m\u001b[0m\n\u001b[0m\u001b[0;32m    815\u001b[0m       \u001b[1;32mif\u001b[0m \u001b[0mself\u001b[0m\u001b[1;33m.\u001b[0m\u001b[0m_created_variables\u001b[0m\u001b[1;33m:\u001b[0m\u001b[1;33m\u001b[0m\u001b[1;33m\u001b[0m\u001b[0m\n\u001b[0;32m    816\u001b[0m         raise ValueError(\"Creating variables on a non-first call to a function\"\n",
      "\u001b[1;32mD:\\Anaconda\\envs\\tf_gpu_env2\\lib\\site-packages\\tensorflow\\python\\eager\\function.py\u001b[0m in \u001b[0;36m__call__\u001b[1;34m(self, *args, **kwargs)\u001b[0m\n\u001b[0;32m   2827\u001b[0m     \u001b[1;32mwith\u001b[0m \u001b[0mself\u001b[0m\u001b[1;33m.\u001b[0m\u001b[0m_lock\u001b[0m\u001b[1;33m:\u001b[0m\u001b[1;33m\u001b[0m\u001b[1;33m\u001b[0m\u001b[0m\n\u001b[0;32m   2828\u001b[0m       \u001b[0mgraph_function\u001b[0m\u001b[1;33m,\u001b[0m \u001b[0margs\u001b[0m\u001b[1;33m,\u001b[0m \u001b[0mkwargs\u001b[0m \u001b[1;33m=\u001b[0m \u001b[0mself\u001b[0m\u001b[1;33m.\u001b[0m\u001b[0m_maybe_define_function\u001b[0m\u001b[1;33m(\u001b[0m\u001b[0margs\u001b[0m\u001b[1;33m,\u001b[0m \u001b[0mkwargs\u001b[0m\u001b[1;33m)\u001b[0m\u001b[1;33m\u001b[0m\u001b[1;33m\u001b[0m\u001b[0m\n\u001b[1;32m-> 2829\u001b[1;33m     \u001b[1;32mreturn\u001b[0m \u001b[0mgraph_function\u001b[0m\u001b[1;33m.\u001b[0m\u001b[0m_filtered_call\u001b[0m\u001b[1;33m(\u001b[0m\u001b[0margs\u001b[0m\u001b[1;33m,\u001b[0m \u001b[0mkwargs\u001b[0m\u001b[1;33m)\u001b[0m  \u001b[1;31m# pylint: disable=protected-access\u001b[0m\u001b[1;33m\u001b[0m\u001b[1;33m\u001b[0m\u001b[0m\n\u001b[0m\u001b[0;32m   2830\u001b[0m \u001b[1;33m\u001b[0m\u001b[0m\n\u001b[0;32m   2831\u001b[0m   \u001b[1;33m@\u001b[0m\u001b[0mproperty\u001b[0m\u001b[1;33m\u001b[0m\u001b[1;33m\u001b[0m\u001b[0m\n",
      "\u001b[1;32mD:\\Anaconda\\envs\\tf_gpu_env2\\lib\\site-packages\\tensorflow\\python\\eager\\function.py\u001b[0m in \u001b[0;36m_filtered_call\u001b[1;34m(self, args, kwargs, cancellation_manager)\u001b[0m\n\u001b[0;32m   1841\u001b[0m       \u001b[0;31m`\u001b[0m\u001b[0margs\u001b[0m\u001b[0;31m`\u001b[0m \u001b[1;32mand\u001b[0m\u001b[0;31m \u001b[0m\u001b[0;31m`\u001b[0m\u001b[0mkwargs\u001b[0m\u001b[0;31m`\u001b[0m\u001b[1;33m.\u001b[0m\u001b[1;33m\u001b[0m\u001b[1;33m\u001b[0m\u001b[0m\n\u001b[0;32m   1842\u001b[0m     \"\"\"\n\u001b[1;32m-> 1843\u001b[1;33m     return self._call_flat(\n\u001b[0m\u001b[0;32m   1844\u001b[0m         [t for t in nest.flatten((args, kwargs), expand_composites=True)\n\u001b[0;32m   1845\u001b[0m          if isinstance(t, (ops.Tensor,\n",
      "\u001b[1;32mD:\\Anaconda\\envs\\tf_gpu_env2\\lib\\site-packages\\tensorflow\\python\\eager\\function.py\u001b[0m in \u001b[0;36m_call_flat\u001b[1;34m(self, args, captured_inputs, cancellation_manager)\u001b[0m\n\u001b[0;32m   1921\u001b[0m         and executing_eagerly):\n\u001b[0;32m   1922\u001b[0m       \u001b[1;31m# No tape is watching; skip to running the function.\u001b[0m\u001b[1;33m\u001b[0m\u001b[1;33m\u001b[0m\u001b[1;33m\u001b[0m\u001b[0m\n\u001b[1;32m-> 1923\u001b[1;33m       return self._build_call_outputs(self._inference_function.call(\n\u001b[0m\u001b[0;32m   1924\u001b[0m           ctx, args, cancellation_manager=cancellation_manager))\n\u001b[0;32m   1925\u001b[0m     forward_backward = self._select_forward_and_backward_functions(\n",
      "\u001b[1;32mD:\\Anaconda\\envs\\tf_gpu_env2\\lib\\site-packages\\tensorflow\\python\\eager\\function.py\u001b[0m in \u001b[0;36mcall\u001b[1;34m(self, ctx, args, cancellation_manager)\u001b[0m\n\u001b[0;32m    543\u001b[0m       \u001b[1;32mwith\u001b[0m \u001b[0m_InterpolateFunctionError\u001b[0m\u001b[1;33m(\u001b[0m\u001b[0mself\u001b[0m\u001b[1;33m)\u001b[0m\u001b[1;33m:\u001b[0m\u001b[1;33m\u001b[0m\u001b[1;33m\u001b[0m\u001b[0m\n\u001b[0;32m    544\u001b[0m         \u001b[1;32mif\u001b[0m \u001b[0mcancellation_manager\u001b[0m \u001b[1;32mis\u001b[0m \u001b[1;32mNone\u001b[0m\u001b[1;33m:\u001b[0m\u001b[1;33m\u001b[0m\u001b[1;33m\u001b[0m\u001b[0m\n\u001b[1;32m--> 545\u001b[1;33m           outputs = execute.execute(\n\u001b[0m\u001b[0;32m    546\u001b[0m               \u001b[0mstr\u001b[0m\u001b[1;33m(\u001b[0m\u001b[0mself\u001b[0m\u001b[1;33m.\u001b[0m\u001b[0msignature\u001b[0m\u001b[1;33m.\u001b[0m\u001b[0mname\u001b[0m\u001b[1;33m)\u001b[0m\u001b[1;33m,\u001b[0m\u001b[1;33m\u001b[0m\u001b[1;33m\u001b[0m\u001b[0m\n\u001b[0;32m    547\u001b[0m               \u001b[0mnum_outputs\u001b[0m\u001b[1;33m=\u001b[0m\u001b[0mself\u001b[0m\u001b[1;33m.\u001b[0m\u001b[0m_num_outputs\u001b[0m\u001b[1;33m,\u001b[0m\u001b[1;33m\u001b[0m\u001b[1;33m\u001b[0m\u001b[0m\n",
      "\u001b[1;32mD:\\Anaconda\\envs\\tf_gpu_env2\\lib\\site-packages\\tensorflow\\python\\eager\\execute.py\u001b[0m in \u001b[0;36mquick_execute\u001b[1;34m(op_name, num_outputs, inputs, attrs, ctx, name)\u001b[0m\n\u001b[0;32m     57\u001b[0m   \u001b[1;32mtry\u001b[0m\u001b[1;33m:\u001b[0m\u001b[1;33m\u001b[0m\u001b[1;33m\u001b[0m\u001b[0m\n\u001b[0;32m     58\u001b[0m     \u001b[0mctx\u001b[0m\u001b[1;33m.\u001b[0m\u001b[0mensure_initialized\u001b[0m\u001b[1;33m(\u001b[0m\u001b[1;33m)\u001b[0m\u001b[1;33m\u001b[0m\u001b[1;33m\u001b[0m\u001b[0m\n\u001b[1;32m---> 59\u001b[1;33m     tensors = pywrap_tfe.TFE_Py_Execute(ctx._handle, device_name, op_name,\n\u001b[0m\u001b[0;32m     60\u001b[0m                                         inputs, attrs, num_outputs)\n\u001b[0;32m     61\u001b[0m   \u001b[1;32mexcept\u001b[0m \u001b[0mcore\u001b[0m\u001b[1;33m.\u001b[0m\u001b[0m_NotOkStatusException\u001b[0m \u001b[1;32mas\u001b[0m \u001b[0me\u001b[0m\u001b[1;33m:\u001b[0m\u001b[1;33m\u001b[0m\u001b[1;33m\u001b[0m\u001b[0m\n",
      "\u001b[1;31mKeyboardInterrupt\u001b[0m: "
     ]
    }
   ],
   "source": [
    "h1=history(vgg16,generator_train,generator_test)"
   ]
  },
  {
   "cell_type": "code",
   "execution_count": 13,
   "metadata": {},
   "outputs": [],
   "source": [
    "history_to_CSV(\"vgg16\",h1)"
   ]
  },
  {
   "cell_type": "code",
   "execution_count": 14,
   "metadata": {},
   "outputs": [
    {
     "data": {
      "image/png": "[encoded data removed]",
      "text/plain": [
       "<Figure size 432x288 with 1 Axes>"
      ]
     },
     "metadata": {
      "needs_background": "light"
     },
     "output_type": "display_data"
    },
    {
     "data": {
      "image/png": "[encoded data removed]",
      "text/plain": [
       "<Figure size 432x288 with 1 Axes>"
      ]
     },
     "metadata": {
      "needs_background": "light"
     },
     "output_type": "display_data"
    }
   ],
   "source": [
    "plotGraph(\"vgg16\",h1)"
   ]
  },
  {
   "cell_type": "code",
   "execution_count": 15,
   "metadata": {},
   "outputs": [
    {
     "name": "stderr",
     "output_type": "stream",
     "text": [
      "C:\\Users\\Dipto\\anaconda3\\envs\\tf_gpu\\lib\\site-packages\\tensorflow\\python\\keras\\engine\\training.py:2001: UserWarning: `Model.predict_generator` is deprecated and will be removed in a future version. Please use `Model.predict`, which supports generators.\n",
      "  warnings.warn('`Model.predict_generator` is deprecated and '\n"
     ]
    },
    {
     "name": "stdout",
     "output_type": "stream",
     "text": [
      "Classification Report\n",
      "              precision    recall  f1-score   support\n",
      "\n",
      "      Normal     0.9750    0.9957    0.9853      3054\n",
      "    Affected     0.9872    0.9279    0.9566      1082\n",
      "\n",
      "    accuracy                         0.9780      4136\n",
      "   macro avg     0.9811    0.9618    0.9710      4136\n",
      "weighted avg     0.9782    0.9780    0.9778      4136\n",
      "\n"
     ]
    },
    {
     "data": {
      "image/png": "[encoded data removed]",
      "text/plain": [
       "<Figure size 468x432 with 2 Axes>"
      ]
     },
     "metadata": {
      "needs_background": "light"
     },
     "output_type": "display_data"
    }
   ],
   "source": [
    "generate_report(\"vgg16\",vgg16)"
   ]
  },
  {
   "cell_type": "markdown",
   "metadata": {
    "id": "fP-7Ak9Pfc_U"
   },
   "source": [
    "# **Inception V3**\n"
   ]
  },
  {
   "cell_type": "code",
   "execution_count": 14,
   "metadata": {
    "id": "sfFS8Fr-fhs4"
   },
   "outputs": [
    {
     "name": "stdout",
     "output_type": "stream",
     "text": [
      "input_2\n",
      "conv2d\n",
      "batch_normalization\n",
      "activation\n",
      "conv2d_1\n",
      "batch_normalization_1\n",
      "activation_1\n",
      "conv2d_2\n",
      "batch_normalization_2\n",
      "activation_2\n",
      "max_pooling2d\n",
      "conv2d_3\n",
      "batch_normalization_3\n",
      "activation_3\n",
      "conv2d_4\n",
      "batch_normalization_4\n",
      "activation_4\n",
      "max_pooling2d_1\n",
      "conv2d_8\n",
      "batch_normalization_8\n",
      "activation_8\n",
      "conv2d_6\n",
      "conv2d_9\n",
      "batch_normalization_6\n",
      "batch_normalization_9\n",
      "activation_6\n",
      "activation_9\n",
      "average_pooling2d\n",
      "conv2d_5\n",
      "conv2d_7\n",
      "conv2d_10\n",
      "conv2d_11\n",
      "batch_normalization_5\n",
      "batch_normalization_7\n",
      "batch_normalization_10\n",
      "batch_normalization_11\n",
      "activation_5\n",
      "activation_7\n",
      "activation_10\n",
      "activation_11\n",
      "mixed0\n",
      "conv2d_15\n",
      "batch_normalization_15\n",
      "activation_15\n",
      "conv2d_13\n",
      "conv2d_16\n",
      "batch_normalization_13\n",
      "batch_normalization_16\n",
      "activation_13\n",
      "activation_16\n",
      "average_pooling2d_1\n",
      "conv2d_12\n",
      "conv2d_14\n",
      "conv2d_17\n",
      "conv2d_18\n",
      "batch_normalization_12\n",
      "batch_normalization_14\n",
      "batch_normalization_17\n",
      "batch_normalization_18\n",
      "activation_12\n",
      "activation_14\n",
      "activation_17\n",
      "activation_18\n",
      "mixed1\n",
      "conv2d_22\n",
      "batch_normalization_22\n",
      "activation_22\n",
      "conv2d_20\n",
      "conv2d_23\n",
      "batch_normalization_20\n",
      "batch_normalization_23\n",
      "activation_20\n",
      "activation_23\n",
      "average_pooling2d_2\n",
      "conv2d_19\n",
      "conv2d_21\n",
      "conv2d_24\n",
      "conv2d_25\n",
      "batch_normalization_19\n",
      "batch_normalization_21\n",
      "batch_normalization_24\n",
      "batch_normalization_25\n",
      "activation_19\n",
      "activation_21\n",
      "activation_24\n",
      "activation_25\n",
      "mixed2\n",
      "conv2d_27\n",
      "batch_normalization_27\n",
      "activation_27\n",
      "conv2d_28\n",
      "batch_normalization_28\n",
      "activation_28\n",
      "conv2d_26\n",
      "conv2d_29\n",
      "batch_normalization_26\n",
      "batch_normalization_29\n",
      "activation_26\n",
      "activation_29\n",
      "max_pooling2d_2\n",
      "mixed3\n",
      "conv2d_34\n",
      "batch_normalization_34\n",
      "activation_34\n",
      "conv2d_35\n",
      "batch_normalization_35\n",
      "activation_35\n",
      "conv2d_31\n",
      "conv2d_36\n",
      "batch_normalization_31\n",
      "batch_normalization_36\n",
      "activation_31\n",
      "activation_36\n",
      "conv2d_32\n",
      "conv2d_37\n",
      "batch_normalization_32\n",
      "batch_normalization_37\n",
      "activation_32\n",
      "activation_37\n",
      "average_pooling2d_3\n",
      "conv2d_30\n",
      "conv2d_33\n",
      "conv2d_38\n",
      "conv2d_39\n",
      "batch_normalization_30\n",
      "batch_normalization_33\n",
      "batch_normalization_38\n",
      "batch_normalization_39\n",
      "activation_30\n",
      "activation_33\n",
      "activation_38\n",
      "activation_39\n",
      "mixed4\n",
      "conv2d_44\n",
      "batch_normalization_44\n",
      "activation_44\n",
      "conv2d_45\n",
      "batch_normalization_45\n",
      "activation_45\n",
      "conv2d_41\n",
      "conv2d_46\n",
      "batch_normalization_41\n",
      "batch_normalization_46\n",
      "activation_41\n",
      "activation_46\n",
      "conv2d_42\n",
      "conv2d_47\n",
      "batch_normalization_42\n",
      "batch_normalization_47\n",
      "activation_42\n",
      "activation_47\n",
      "average_pooling2d_4\n",
      "conv2d_40\n",
      "conv2d_43\n",
      "conv2d_48\n",
      "conv2d_49\n",
      "batch_normalization_40\n",
      "batch_normalization_43\n",
      "batch_normalization_48\n",
      "batch_normalization_49\n",
      "activation_40\n",
      "activation_43\n",
      "activation_48\n",
      "activation_49\n",
      "mixed5\n",
      "conv2d_54\n",
      "batch_normalization_54\n",
      "activation_54\n",
      "conv2d_55\n",
      "batch_normalization_55\n",
      "activation_55\n",
      "conv2d_51\n",
      "conv2d_56\n",
      "batch_normalization_51\n",
      "batch_normalization_56\n",
      "activation_51\n",
      "activation_56\n",
      "conv2d_52\n",
      "conv2d_57\n",
      "batch_normalization_52\n",
      "batch_normalization_57\n",
      "activation_52\n",
      "activation_57\n",
      "average_pooling2d_5\n",
      "conv2d_50\n",
      "conv2d_53\n",
      "conv2d_58\n",
      "conv2d_59\n",
      "batch_normalization_50\n",
      "batch_normalization_53\n",
      "batch_normalization_58\n",
      "batch_normalization_59\n",
      "activation_50\n",
      "activation_53\n",
      "activation_58\n",
      "activation_59\n",
      "mixed6\n",
      "conv2d_64\n",
      "batch_normalization_64\n",
      "activation_64\n",
      "conv2d_65\n",
      "batch_normalization_65\n",
      "activation_65\n",
      "conv2d_61\n",
      "conv2d_66\n",
      "batch_normalization_61\n",
      "batch_normalization_66\n",
      "activation_61\n",
      "activation_66\n",
      "conv2d_62\n",
      "conv2d_67\n",
      "batch_normalization_62\n",
      "batch_normalization_67\n",
      "activation_62\n",
      "activation_67\n",
      "average_pooling2d_6\n",
      "conv2d_60\n",
      "conv2d_63\n",
      "conv2d_68\n",
      "conv2d_69\n",
      "batch_normalization_60\n",
      "batch_normalization_63\n",
      "batch_normalization_68\n",
      "batch_normalization_69\n",
      "activation_60\n",
      "activation_63\n",
      "activation_68\n",
      "activation_69\n",
      "mixed7\n",
      "conv2d_72\n",
      "batch_normalization_72\n",
      "activation_72\n",
      "conv2d_73\n",
      "batch_normalization_73\n",
      "activation_73\n",
      "conv2d_70\n",
      "conv2d_74\n",
      "batch_normalization_70\n",
      "batch_normalization_74\n",
      "activation_70\n",
      "activation_74\n",
      "conv2d_71\n",
      "conv2d_75\n",
      "batch_normalization_71\n",
      "batch_normalization_75\n",
      "activation_71\n",
      "activation_75\n",
      "max_pooling2d_3\n",
      "mixed8\n",
      "conv2d_80\n",
      "batch_normalization_80\n",
      "activation_80\n",
      "conv2d_77\n",
      "conv2d_81\n",
      "batch_normalization_77\n",
      "batch_normalization_81\n",
      "activation_77\n",
      "activation_81\n",
      "conv2d_78\n",
      "conv2d_79\n",
      "conv2d_82\n",
      "conv2d_83\n",
      "average_pooling2d_7\n",
      "conv2d_76\n",
      "batch_normalization_78\n",
      "batch_normalization_79\n",
      "batch_normalization_82\n",
      "batch_normalization_83\n",
      "conv2d_84\n",
      "batch_normalization_76\n",
      "activation_78\n",
      "activation_79\n",
      "activation_82\n",
      "activation_83\n",
      "batch_normalization_84\n",
      "activation_76\n",
      "mixed9_0\n",
      "concatenate\n",
      "activation_84\n",
      "mixed9\n",
      "conv2d_89\n",
      "batch_normalization_89\n",
      "activation_89\n",
      "conv2d_86\n",
      "conv2d_90\n",
      "batch_normalization_86\n",
      "batch_normalization_90\n",
      "activation_86\n",
      "activation_90\n",
      "conv2d_87\n",
      "conv2d_88\n",
      "conv2d_91\n",
      "conv2d_92\n",
      "average_pooling2d_8\n",
      "conv2d_85\n",
      "batch_normalization_87\n",
      "batch_normalization_88\n",
      "batch_normalization_91\n",
      "batch_normalization_92\n",
      "conv2d_93\n",
      "batch_normalization_85\n",
      "activation_87\n",
      "activation_88\n",
      "activation_91\n",
      "activation_92\n",
      "batch_normalization_93\n",
      "activation_85\n",
      "mixed9_1\n",
      "concatenate_1\n",
      "activation_93\n",
      "mixed10\n",
      "Last Layer : mixed10\n"
     ]
    }
   ],
   "source": [
    "model3 = InceptionV3(include_top=False,input_shape=(224, 224, 3), weights='imagenet')\n",
    "l3=trainableLayers(model3)\n",
    "print(\"Last Layer : \"+l3)"
   ]
  },
  {
   "cell_type": "code",
   "execution_count": 15,
   "metadata": {
    "id": "PJwhMeyMr5LB"
   },
   "outputs": [],
   "source": [
    "layer3 = model3.get_layer(l3)\n",
    "iv3=transferLayer(model3,layer3)\n",
    "# plotmodel(iv3)"
   ]
  },
  {
   "cell_type": "code",
   "execution_count": 16,
   "metadata": {
    "id": "Ba2CXx04oKzp"
   },
   "outputs": [
    {
     "name": "stdout",
     "output_type": "stream",
     "text": [
      "Model: \"sequential_1\"\n",
      "_________________________________________________________________\n",
      "Layer (type)                 Output Shape              Param #   \n",
      "=================================================================\n",
      "functional_3 (Functional)    (None, 5, 5, 2048)        21802784  \n",
      "_________________________________________________________________\n",
      "flatten_1 (Flatten)          (None, 51200)             0         \n",
      "_________________________________________________________________\n",
      "dropout_1 (Dropout)          (None, 51200)             0         \n",
      "_________________________________________________________________\n",
      "dense_2 (Dense)              (None, 512)               26214912  \n",
      "_________________________________________________________________\n",
      "dense_3 (Dense)              (None, 2)                 1026      \n",
      "=================================================================\n",
      "Total params: 48,018,722\n",
      "Trainable params: 47,984,290\n",
      "Non-trainable params: 34,432\n",
      "_________________________________________________________________\n"
     ]
    }
   ],
   "source": [
    "iv3.summary()"
   ]
  },
  {
   "cell_type": "markdown",
   "metadata": {
    "id": "b1iQ6Zx3o9e6"
   },
   "source": [
    "# Cross Validation-Inceptionv3"
   ]
  },
  {
   "cell_type": "code",
   "execution_count": 19,
   "metadata": {
    "id": "hSrgSzbNnQf3"
   },
   "outputs": [
    {
     "name": "stdout",
     "output_type": "stream",
     "text": [
      "Epoch 1/40\n"
     ]
    },
    {
     "name": "stderr",
     "output_type": "stream",
     "text": [
      "C:\\Users\\Dipto\\anaconda3\\envs\\tf_gpu\\lib\\site-packages\\tensorflow\\python\\keras\\optimizer_v2\\optimizer_v2.py:374: UserWarning: The `lr` argument is deprecated, use `learning_rate` instead.\n",
      "  warnings.warn(\n",
      "C:\\Users\\Dipto\\anaconda3\\envs\\tf_gpu\\lib\\site-packages\\tensorflow\\python\\keras\\engine\\training.py:1940: UserWarning: `Model.fit_generator` is deprecated and will be removed in a future version. Please use `Model.fit`, which supports generators.\n",
      "  warnings.warn('`Model.fit_generator` is deprecated and '\n"
     ]
    },
    {
     "name": "stdout",
     "output_type": "stream",
     "text": [
      "403/403 [==============================] - 60s 127ms/step - loss: 0.3932 - categorical_accuracy: 0.8443 - val_loss: 0.6448 - val_categorical_accuracy: 0.7780s: 0.6295 - categorical_accuracy: 0. - ETA: 30s - loss: 0.6233 - categorical_accuracy: 0.75 - ETA: 30s - loss: 0.6153 - categorical_accuracy:  - ETA: 30s - loss: 0.6159 - categorical_accuracy:  - ETA: 29s - loss: 0.6002 - categorical_accuracy:  - ETA: 29s - loss: 0.5932 - categorical_accuracy: 0. - ETA: 28s - loss: 0.5857 - categorical_accuracy:  - ETA: 28s - loss: 0.5621 - categorical_acc - ETA: 26s - loss: 0.5539 - categorical_accuracy: 0. - ETA: 26s - loss: 0.5396 - categorical_accur - ETA: 25s - loss: 0.5372 - categorical_accur - ETA: 24s - loss: 0.5241 - cat - ETA: 22s - loss: 0.4957 - categorical_accuracy: 0. - ETA: 21s - loss: 0.4937 - categorical_accuracy: 0.805 - ETA: 21s - loss: 0.4959 - catego - ETA: 14s - loss: 0. - ETA: 8s - loss: 0.4269 - categorica - E\n",
      "Epoch 2/40\n",
      "403/403 [==============================] - 50s 123ms/step - loss: 0.2206 - categorical_accuracy: 0.9181 - val_loss: 0.3203 - val_categorical_accuracy: 0.8755A: 33s - loss: 0.1 - ETA: 30s - loss: 0.2314 - cate - ETA: - ETA: 1s - loss: 0.219\n",
      "Epoch 3/40\n",
      "403/403 [==============================] - 49s 122ms/step - loss: 0.1690 - categorical_accuracy: 0.9423 - val_loss: 0.2604 - val_categorical_accuracy: 0.8963 34s - loss: 0.1949 - categorical_accuracy: 0.92 - ETA: 34s - - ETA: 30 - ETA: 25s - - ETA: 21s - loss: 0.1656 - categorical_accuracy: 0.9 - ETA: 21s - loss: 0.1745 - categorical_ac - ETA: 20s - loss: 0.1713 - categorica - ETA: 18s - lo - ETA: 14s - loss: 0.1901 - categor - ETA: 13s - loss: 0.1840 - categorical_accu - ETA: 12s - loss:  - ETA: 9s - loss: 0.1723 - categorical_accuracy: 0. - ETA: 9s - loss: 0.1 - ETA: 7s - loss: 0.1695 - categorical_accuracy - E\n",
      "Epoch 4/40\n",
      "403/403 [==============================] - 50s 123ms/step - loss: 0.1343 - categorical_accuracy: 0.9507 - val_loss: 0.2987 - val_categorical_accuracy: 0.8902 - categorical_accuracy: 0. - ETA: 22s - loss: 0.1262 - categorical_a - ETA: 20s - loss: 0.1316 - categorical_accuracy: 0. - ETA: 20s - loss: 0.1361 - categoric - ETA: 6s - loss: 0.1359 - cate - ETA: 5s - loss: 0 - ETA: 1s - loss: 0.136\n",
      "Epoch 5/40\n",
      "403/403 [==============================] - 49s 122ms/step - loss: 0.0974 - categorical_accuracy: 0.9625 - val_loss: 0.2254 - val_categorical_accuracy: 0.92219s - loss: 0.1207 - cat - ETA: 17s - loss: 0.1150 - categorical_accuracy: 0.9 - ETA: 17s - loss: 0.1135 - categorical_accuracy: 0 - ETA: 16s - loss: 0.1128 - categorical_accuracy: 0.955 -  - ETA: 12s - loss: 0.1049 - categorical_accuracy - ETA: 5s - loss: 0.1027 - cate - ETA: 4s - loss: 0.1018 - categorical_accu - ETA: 4s - loss: 0.1013 - categorical_accura - ETA: 3s - ETA: 1s - loss: 0.0998 - categorica - ETA: 0s - loss: 0.0984 - categori\n",
      "Epoch 6/40\n",
      "403/403 [==============================] - 49s 122ms/step - loss: 0.0978 - categorical_accuracy: 0.9643 - val_loss: 0.1625 - val_categorical_accuracy: 0.9386- ETA: 22s - loss: 0.1067 - cate - ETA: 15s - loss: 0 - ETA: 12s - loss: 0.1012 - categorical_accuracy: 0.96 - ETA: 12s - loss: 0.1005 - categorical_accurac - ETA: 11s - loss: 0.1 - ETA: 9s - l - ETA: 7s - loss: 0.1025 - categorical_ - ETA: 4s - loss: 0.0986 - categori - E - ETA: 0s - loss: 0.0968 - catego\n",
      "Epoch 7/40\n",
      "403/403 [==============================] - 50s 125ms/step - loss: 0.0775 - categorical_accuracy: 0.9743 - val_loss: 0.1162 - val_categorical_accuracy: 0.95625s - loss: 0.0803 - categorical_accuracy - ETA: 19s - loss: 0.0739 - catego - ETA: 17s - loss: 0.0795 - categorical_ac - ETA: 16s - ETA: 12s - loss: 0.0814 - catego - ETA: 10s - loss: 0.0811 - categorical_a - ETA: 9s - loss: 0.0 - ETA: 8s - loss: 0 - ETA:  - ETA: 1s - loss: 0.0764 - categorical_accuracy - ETA: 1s - loss: 0.0768 - categorical_accuracy: 0. - ETA: 1s - loss: 0.0764 - categori - ETA: 0s - loss: 0.0771 - categorical_accuracy: \n",
      "Epoch 8/40\n",
      "403/403 [==============================] - 49s 122ms/step - loss: 0.0741 - categorical_accuracy: 0.9767 - val_loss: 0.1679 - val_categorical_accuracy: 0.93676  - ETA: 15s - loss: 0.0703 - categori - ETA: 13s - loss: 0.0698 - categorical_accuracy: 0.9 - ETA: 13s - - ETA: 9s - l - ETA: 7s - loss: - ETA: 6s - loss: 0.0711 - categorical_ac - ETA: 5s - loss: 0.0721 - categorical_accuracy: 0.97 - ETA: 5s - loss: 0.0719 - categorical_accura - ETA: 2s - loss: 0.071 - ETA: 0s - loss: 0.0724 - cate\n",
      "Epoch 9/40\n",
      "403/403 [==============================] - 50s 123ms/step - loss: 0.0486 - categorical_accuracy: 0.9829 - val_loss: 0.1698 - val_categorical_accuracy: 0.9441\n",
      "Epoch 10/40\n",
      "403/403 [==============================] - 49s 122ms/step - loss: 0.0644 - categorical_accuracy: 0.9780 - val_loss: 0.1228 - val_categorical_accuracy: 0.9589\n",
      "Epoch 11/40\n",
      "403/403 [==============================] - 50s 125ms/step - loss: 0.0447 - categorical_accuracy: 0.9836 - val_loss: 0.1862 - val_categorical_accuracy: 0.9369A: 16s - loss: 0.04 - ETA: 13s - loss: 0.0429 - cate - ETA: 11s - loss: 0.0442 - categorical_accuracy: 0 - ETA: - ETA: 8s - - ETA: 6s - l - ETA:  - ETA: 2s - loss: 0.044 - ETA: 0s - loss: 0.0454 - categorical_accuracy - ETA: 0s - loss: 0.0450 - categorical_accuracy:  - ETA: 0s - loss: 0.0447 - categorical_accuracy: \n",
      "Epoch 12/40\n",
      "403/403 [==============================] - 49s 123ms/step - loss: 0.0320 - categorical_accuracy: 0.9873 - val_loss: 0.1217 - val_categorical_accuracy: 0.9637loss: 0.0441 - categorical_accuracy: 0 - ETA: 30s - loss: 0.0496 - categorical_accur - ETA: 29s - loss: 0 - ETA: 16s - loss: 0.0320 - categorical_a - ETA: 15s - loss: 0.0334 - categorical - ETA: 13s - loss: 0.0348 - categorical_accur - ETA: 12s - loss: 0.0339 - catego - ETA: 10s - loss: 0.0337 - categorical_accuracy: 0.9 - ETA: 10s - loss: 0.0334 - cate - ETA: 9s - loss: 0.0333 - categorical_accura - ETA: 8s - loss: 0.0332 - categorical_accuracy - ETA: 8s - loss: 0.0330 - categorical_accuracy - ETA: 5s - - ETA: 3s - - ETA: 1s - loss: 0.0329 - categorical_accuracy: 0.98 - ETA: 1s - loss: 0.0\n",
      "Epoch 13/40\n",
      "403/403 [==============================] - 50s 125ms/step - loss: 0.0296 - categorical_accuracy: 0.9888 - val_loss: 0.0902 - val_categorical_accuracy: 0.967834s - loss: 0.0053 - categorical_accuracy - ETA: 33s - loss: 0.0052 - categ - ETA: 31s - loss: 0.0158 - ETA: 29s - loss: 0. - ETA: - ETA: 21s - loss: 0.0350 - categoric - ETA: 1s - loss: 0.0300 - categori - ETA: 1s - loss: 0.0300 - categorica - ETA: 0s - loss: 0.0297 - categorical_accuracy: \n",
      "Epoch 14/40\n",
      "403/403 [==============================] - 50s 124ms/step - loss: 0.0323 - categorical_accuracy: 0.9895 - val_loss: 0.1185 - val_categorical_accuracy: 0.96166 - categorical_accu - ETA: 7s - loss: 0.0311 - categorical_ - ETA: 4s - l - ETA: 2s - loss: 0.0 - ETA: 1s - loss: 0.0328 - categorical_accuracy - ETA: 0s - loss: 0.0325 - cate\n",
      "Epoch 15/40\n",
      "403/403 [==============================] - 48s 120ms/step - loss: 0.0307 - categorical_accuracy: 0.9885 - val_loss: 0.1650 - val_categorical_accuracy: 0.9550ETA: 28s - loss: 0.0376 - ETA: 20s - loss: 0.0315 - categorical_accuracy:  - ETA: 20s - loss: 0.0308 - categorical_accuracy: 0.9 - ETA: 19s - loss: 0.0306 - c - ETA: 17s - loss: 0.0279 - categorical_accuracy: 0.9 - - ETA: 12s - loss: 0.0325 - categorical_accuracy: 0.987 - - ETA: 8s - loss: 0.0318 - categorical_accura - ETA - ETA: 6s - loss: 0.0316 - categorical_accuracy: 0.98 - E - ETA: 3s - loss: 0.0313 \n",
      "Epoch 16/40\n",
      "403/403 [==============================] - 49s 121ms/step - loss: 0.0257 - categorical_accuracy: 0.9929 - val_loss: 0.1089 - val_categorical_accuracy: 0.9669: 34s - loss: 0.0054 - categorical_accuracy: 1 - ETA: 34s - loss: 0.0042 - categoric - ETA: 32s - lo - ETA: 28s - loss: 0.0116 - categorical_accuracy: 0.996 - ETA: 28s - loss: 0.0114 - categorical_accur - ETA: 27s - loss: 0.0129 - categorical_accuracy -  - E - ETA: 8s - - ETA: 6s - loss: 0.0266 - ca - ETA: 5s - loss: 0.027 - ETA: 1s - los\n",
      "Epoch 17/40\n",
      "403/403 [==============================] - 49s 121ms/step - loss: 0.0174 - categorical_accuracy: 0.9957 - val_loss: 0.1080 - val_categorical_accuracy: 0.9683 loss: 0.0137 - categorical_a - ETA: 27s - loss: 0.0148 - categorical_accu - ETA: 26s - loss: 0.0154  - ETA: 18s - loss: 0.01 - ETA: 15s - loss: 0.0142 - categorical_ac - ETA: 14s - loss:  - ETA: 11s - loss - ETA: 6s - loss: 0.014 - ETA: 4s - loss: 0.0167 - categorical_accura - ETA: 4s - loss: 0.0 - ETA: 2s - - ETA: 1s - loss: 0.0161 - ca\n",
      "Epoch 18/40\n",
      "403/403 [==============================] - 49s 122ms/step - loss: 0.0312 - categorical_accuracy: 0.9904 - val_loss: 0.1148 - val_categorical_accuracy: 0.9693989 - ETA: 20s - loss: 0.0306 - categorical_accuracy: 0.98 - ETA: 20s - loss: 0.0303 - ca - ETA: 18s - loss: 0.0299 - categorical_accuracy: 0.9 - ETA: 18s - loss: 0.0295 - categorical_accuracy: 0.9 - ETA: 17s - loss:  - ETA: 14s - loss: 0.0365 - categorical_accuracy: 0. - ETA: 14s - loss: 0.0359 - cate - ETA: 12s - loss: 0.0331 - categorical_acc - ETA: 11s - loss: 0.0374 - cat - ETA: 9s - loss: 0.0366 - categori - ETA: 8s - loss: 0.0369 - categori - ETA: 2s - loss: 0.0332 - categorica - ETA: 1s -\n",
      "Epoch 19/40\n",
      "403/403 [==============================] - 49s 121ms/step - loss: 0.0226 - categorical_accuracy: 0.9935 - val_loss: 0.1404 - val_categorical_accuracy: 0.9608 ca - ETA: 25s - loss: 0.0093 - categorical_acc - ETA: 24s - loss: 0.0135 - categorical_accuracy: - ETA: 23s - loss: 0.0129 - cat - ETA: 15s - loss: 0.0249 - categorical_accuracy: 0.9 - ETA: 15s - loss: 0.0246 - categorical_accur - ETA: 14s - loss: 0.0272 - categorical_accu - ETA: 13s - loss: 0.028 - ETA: 10s -  - ETA: 3s - loss: 0.0229 - catego - ETA: 2s - loss: 0.0224 - categorica - ETA: 1s - loss: 0\n",
      "Epoch 20/40\n",
      "403/403 [==============================] - 48s 120ms/step - loss: 0.0202 - categorical_accuracy: 0.9941 - val_loss: 0.0909 - val_categorical_accuracy: 0.9720ategorical_accuracy: - ETA: 25s - loss: 0.0274 - c - ETA: 23s - loss: 0.0233 - categorical - ETA: 21s - loss: 0.0209 - categorical_accuracy: 0. - ETA: 21s - loss: 0.0204 - categorical_accuracy:  - ETA: 21s - loss: 0.0198 - categorical_acc - ETA: 19s - loss: 0.0207 - categorical_acc - ETA: 18s -  - ETA: 14s - loss: 0.0177 - categoric - ETA: 1s - loss: 0.0 - ETA: 0s - loss: 0.0200 - categorical_accuracy: 0.\n",
      "Epoch 21/40\n",
      "403/403 [==============================] - 48s 120ms/step - loss: 0.0123 - categorical_accuracy: 0.9957 - val_loss: 0.0909 - val_categorical_accuracy: 0.9732accurac - ETA: 16s - loss: 0.0112 - categorical_acc - ETA: 15s - loss: 0.0114 - categorical_accuracy:  - ETA: 14s - loss: 0.0111 - categorical_accuracy:   - ETA: 9s - l - ETA: 0s - loss: 0.0124 - categorical_accuracy\n",
      "Epoch 22/40\n",
      "403/403 [==============================] - 48s 120ms/step - loss: 0.0152 - categorical_accuracy: 0.9938 - val_loss: 0.1186 - val_categorical_accuracy: 0.9674cal_accuracy: 0 - ETA: 29s - loss: 0.0250 -  - ETA: 27s - loss: 0.0215 - categorical_accuracy: 0.9 - ETA: 26s - loss: 0.0208 - categorical_accuracy:  - ETA: 26s - loss: 0.0265 - categorical_accuracy:  - ETA: 20s - loss: 0.0181 - categorical_accuracy:  - ETA: 20s - loss: 0.0175 - categorical_accuracy: 0 - ETA: 19s - loss: 0.0171 - categorical_accuracy: 0.991 - ETA: 19s - loss: 0.0170 - catego - ETA: 17s - loss: 0.0154 - catego - ETA: 15s - - ETA: 3s - loss: 0.0155 - categori - ETA: 2s - ETA: 0s - loss: 0.0154 - categorical_ac\n",
      "Epoch 23/40\n",
      "403/403 [==============================] - 48s 120ms/step - loss: 0.0216 - categorical_accuracy: 0.9935 - val_loss: 0.1132 - val_categorical_accuracy: 0.9695s - loss: 0.0157 - categorical_accurac - ETA: 30s - loss: 0.0138 - catego - ETA: 28s - loss: 0.0103 - categorical_accuracy:  - ETA: 27s - loss: 0.0133 - categorical_a - ETA: 26s - loss: 0.0249 - categorical_accuracy: 0.9 - ETA: 26s - loss: 0.0249 - categorical_accuracy: 0.9 - ETA: 26s - loss: 0.0247 - catego - ETA: 24s - loss: 0.0230 - categorical_accurac - ETA: 23s - los - ETA: 19s - l  - ETA: 11s - loss: 0.0228 - categorical_accurac - ETA: 5s - loss: 0 - ETA: 3s - loss: 0.0214 - cate - ETA: 2s - loss: 0.0210 - categorical_ac - ETA: 1s -\n",
      "Epoch 24/40\n",
      "403/403 [==============================] - 48s 120ms/step - loss: 0.0069 - categorical_accuracy: 0.9969 - val_loss: 0.1011 - val_categorical_accuracy: 0.9717s - loss: 0.0202 - c - ETA: 30s - loss: 0.0223 - categoric - ETA: 28s - loss: 0.0169 - c - ETA: 26s - loss: 0.0129 - categorical_a - ETA: 24s - loss: 0.0114 - cat - ETA: 22s - loss: 0.0122 - categorical_accuracy:  - ETA: 22s - loss: 0.0120 - c - ETA: 19s - loss: 0.0115 - c - ETA: 12s - los - ETA: 9s - loss: 0.0081 - categorical_accuracy - ETA: 9s - loss: 0.0080 - categorical_accuracy:  - ETA: 8s - loss: 0 - ETA: 7s - loss: 0.0077 - categorical_accuracy - ETA: 6s - loss: 0.0076 - categorical_accuracy: 0.99 - ETA: 6s - loss: 0.0075 - categorical_accura - ETA: 6s - loss: 0.0074 - categorical_accuracy: 0.99 - ETA: 6s - l - ETA: 4s - l - ETA: 2s - loss: 0.0067 - cate - ETA: 1s - loss: 0.0066 - categorical_ac - ETA: 0s - loss: 0.0064 - catego\n",
      "Epoch 25/40\n",
      "403/403 [==============================] - 48s 120ms/step - loss: 0.0136 - categorical_accuracy: 0.9938 - val_loss: 0.1089 - val_categorical_accuracy: 0.97120.0072  - ETA: 29s - loss: 0.0092 - categorical_accurac - ETA: 28s - loss: 0.0084 - categorical_accuracy: 0.995 - ETA: 28s - loss: 0.0083 - categorical_accuracy:  - ETA: 28s - loss: 0.0077 - categorical_acc - ETA: 26s - loss: - ETA: 6s - loss: 0 - ETA: 4s - loss: 0.0130 - categorical_accura - ETA: 4s - loss: 0.0135 - categorica - ETA: 3s - loss: 0.0132 - categorical_accu - ETA: 3s - loss: 0.0130 - categorical_accura - ETA: 2s - loss: - ETA: 1s - loss: 0.0140 - categori - ETA: 0s - loss: 0.0137 - categorical_accuracy: \n",
      "Epoch 26/40\n",
      "403/403 [==============================] - 48s 120ms/step - loss: 0.0114 - categorical_accuracy: 0.9969 - val_loss: 0.1150 - val_categorical_accuracy: 0.9720A: 18s - loss: 0.0048 - categorical_accu - ETA: 17s - loss: 0.0049 - categorical_accuracy: 0.998 - ETA: 17s - loss: 0.0048 - categorical_accuracy: 0.998 - ETA: 17s - loss: 0.0 - ETA: 7s - loss: 0 - ETA: 3s - - ETA: 1s - loss: 0.0118 - categorical_accura - ETA: 0s - loss: 0.0116 - categori\n",
      "Epoch 27/40\n",
      "403/403 [==============================] - 48s 120ms/step - loss: 0.0102 - categorical_accuracy: 0.9950 - val_loss: 0.1410 - val_categorical_accuracy: 0.9666 33s - loss: 0.0091 - categorical_accuracy: 0.994 - ETA: 33s - loss: 0.0087 - catego - ETA: 31s - loss: 0.0086 - c - ETA: 29s - loss: 0.0072 - categorical_accura - ETA: 28s - loss: 0.0063 - categorical_accuracy: 0.995  - ETA: 18s - loss: 0.0116 - categorical_ac - - ETA: 12s - loss: 0.0095 - cat - ETA: 7s - ETA: 5s - loss: 0.0117 - categorical_ac -\n",
      "Epoch 28/40\n",
      "403/403 [==============================] - 48s 120ms/step - loss: 0.0140 - categorical_accuracy: 0.9950 - val_loss: 0.1303 - val_categorical_accuracy: 0.9686oss: 0.00 - ETA: 29s  - ETA: 25s - loss: 0.0188 - categor - ETA: 23s - loss: 0.0162 - categorical_a - ETA: 12s - loss: 0.0196 - cate - ETA: 10s - loss: 0.0182 - categorical_accur -\n",
      "Epoch 29/40\n",
      "403/403 [==============================] - 48s 120ms/step - loss: 0.0207 - categorical_accuracy: 0.9950 - val_loss: 0.0914 - val_categorical_accuracy: 0.9741: 0.0265 - categorical_accur - ETA: 26s - loss: 0.0 - ETA: 23s - los - ETA: 19s - loss: 0.0232 - categorical_accuracy: 0.9 - ETA: 19s - loss: 0.0228 - categorical_acc - ETA: 18s - loss: 0.0217  - ETA: 15s - loss: 0.0191 - categorical_accuracy: 0.9 - ETA: 15s - loss: 0.0189 - categorical_accur - ETA: 14s - loss: 0.0182 - categorical_accuracy: 0.9 - ETA: 14s - loss: 0.0180 - categori - ETA: 12s - loss: 0.0171 - categorical_accuracy:  - ETA: 11s - loss: 0.0169 - categorical_accuracy - ETA: 11s - loss: - ETA: 1s - loss: 0.0207 - categorical_accura - ETA: 0s - loss: 0.0205 - categorical_ - ETA: 0s - loss: 0.0208 - categorical_accuracy\n",
      "Epoch 30/40\n",
      "403/403 [==============================] - 48s 120ms/step - loss: 0.0190 - categorical_accuracy: 0.9953 - val_loss: 0.0682 - val_categorical_accuracy: 0.9787 22s - loss: 0.01\n",
      "Epoch 31/40\n",
      "403/403 [==============================] - 49s 121ms/step - loss: 0.0080 - categorical_accuracy: 0.9972 - val_loss: 0.0706 - val_categorical_accuracy: 0.979037 - categorical_accuracy:  - ETA: 30s - loss: 0.0035 - cate - ETA: 28s - loss: 0.0044 - categ - ETA: 26s - loss: 0.0047 - categorical_accura - ETA: 25s - loss: 0.0045 - categorical_ - ETA: 24s - loss: 0.0041 - categorical_accuracy:  - ETA: 23s - loss: 0.0040 - categoric - ETA: 21s - loss: 0.0039 - ETA: 19s - loss: 0.0035 - - ETA: 16s - loss: 0.0033 - categorical_accurac - ETA: 15s - los - ETA: 12s  - ETA: 9s - loss: 0.0050 - categorical_accuracy - ETA: 8s - loss: 0.0055 - ca - ETA: 5s - loss: 0.0055 -  - ETA: 3s - loss: 0.0 - ETA - ETA: 0s - loss: 0.0080 - categorical_accuracy: 0.\n",
      "Epoch 32/40\n",
      "403/403 [==============================] - 49s 121ms/step - loss: 0.0142 - categorical_accuracy: 0.9960 - val_loss: 0.0720 - val_categorical_accuracy: 0.98090.0195 - categorica - ETA: 31s - loss: 0.0130 - cate - ETA: 28s - loss: 0.0106 - catego - ETA: 27s - loss: 0.0101 - categorical_accuracy: 0.994 - ETA: 27s - loss: 0.0100 - categorical_accuracy:  - ETA: 26s - loss: 0.0094 - categorical_accuracy: 0.9 - ETA: 26s - loss: 0.0173 - categorical_accuracy: 0.9 - ETA: 25s - loss: 0.016 - ETA: 23s - loss: 0.0199 - categorical_accurac - ETA: 22s - loss: 0.0192 - categorical_accu - ETA: 21s - loss: 0.0178 - categorical_accuracy: 0.994 - ETA: 21s - loss: 0.0177 - categorical_accuracy: - ETA: 20s - loss: 0.0 - ETA: 17s - loss: 0.0155 - categori - ETA: 15s - loss: 0.0150 - categorical_accura - ETA: 14s - loss: 0.0151 - c - ETA: 12s - loss: 0.0186 - categorical_accuracy:  - ETA: 12s - loss: 0.0183 - categoric - ETA: 10s - loss: 0. - ETA: 8s - loss: 0.0180 - cate - ETA: 7s - loss: 0.0174 - categori - ETA: 4s - los\n",
      "Epoch 33/40\n",
      "403/403 [==============================] - 49s 122ms/step - loss: 0.0079 - categorical_accuracy: 0.9981 - val_loss: 0.1909 - val_categorical_accuracy: 0.9637ss: 0.0024 - cate - ETA: 24s - loss: 0.0024 - categorical_accur - ETA: 23s - loss: 0.0024 - categorical_accurac - ETA: 22s - loss: 0.0023 - categorical_ - ETA: 21s - loss: 0.0021 -  - ETA: 19s - loss: 0.0018 - cat - ETA: 16s - loss: 0.0017 - categ - ETA: 14s - loss: 0.0021 - categor - ETA: 12s - loss: 0.0024 - categorical - ETA: 11s - loss: 0.0023 - categorical_accur - ETA: 2s - loss: 0.0083 - categorical_accuracy: 0.99 - ETA: 2s - loss: 0.0083 - categorical_accuracy:  - ETA: 2s - loss: 0.0082 -  - ETA: 1s - loss: 0.0080 - categorical_accuracy: 0. - ETA: 0s - loss: 0.0080 - catego\n",
      "Epoch 34/40\n",
      "403/403 [==============================] - 49s 121ms/step - loss: 0.0067 - categorical_accuracy: 0.9978 - val_loss: 0.0832 - val_categorical_accuracy: 0.9778 0.0071 - categoric - ETA: 30s - loss: 0.0063 - categoric - ETA: 28s - loss: 0.0068 - categorical_ - ETA: 27s - loss: 0.0094 - categorical_accuracy:  - ETA: 26s - loss: 0.0089 - categorical_accuracy: 0.996 - ETA: 26s - loss: 0.0088 - categorical_accu - ETA: 25s - loss: 0.0084 - categorica - ETA: 24s - loss: 0.0073 - categorical_accur - ETA: 23s - loss: 0.0071 - ca - ETA: 0s - loss: 0.0067 - categorical_accuracy: \n",
      "Epoch 35/40\n",
      "403/403 [==============================] - 49s 122ms/step - loss: 0.0107 - categorical_accuracy: 0.9963 - val_loss: 0.0795 - val_categorical_accuracy: 0.9804 33s - loss: 0.0162 - categorical_accuracy: 0.9 - ETA: 32s - ETA: 28s - loss: 0.0227 - catego - ETA: 26s - loss: 0.0179 - categor - ETA: 24s - loss: 0.0150 - categorical_accu - ETA: 23s - loss: 0.0139 - categoric - ETA: 22s - loss: 0.0122 - categorical_accuracy: 0.9 - ETA: 21s - loss: 0.012 - ETA: 19s - loss: 0.0102 - categorical_accuracy: - ETA: 18s - loss: 0.0119 - categorical_accura - ET - ETA: 13s - loss: 0.0135 - categorical_accuracy: 0.995 - ETA: 12s - loss: 0.0135 - categorical_accuracy: 0. - ETA: 12s - loss: 0.0135 - categorical_ac - ETA: 11s - loss: 0.0 - ETA: 9s - loss: - ETA: 7s - loss: 0.0120 - categorica - ETA: 6s - loss: 0.0119  - ETA: 5s - loss: 0.0114 - categorical_ - ETA: 4s - loss: 0.0121 - ca - ETA: 3s - loss: 0.0117 - categorical_accuracy - ETA - ETA: 0s - loss: 0.0110 - categorical_accuracy - ETA: 0s - loss: 0.0109 - categorical_ac\n",
      "Epoch 36/40\n",
      "403/403 [==============================] - 49s 121ms/step - loss: 0.0055 - categorical_accuracy: 0.9981 - val_loss: 0.0800 - val_categorical_accuracy: 0.9746loss: 0.0019 - categorical_acc - ETA: 24s - loss: 0.0023 - categorical_accurac - ETA: 24s - loss: 0.0025 - categorical_accuracy - ETA: 23s - loss: 0.0023 - categorical_accu - ETA: 22s - loss: 0.0023 - categorical_accuracy: 0 - ETA: 21s - loss: 0.0022 - categorical_ - ETA: 20s - loss: 0.0049 - categorical_accuracy: 0.9 - ETA: 20s - loss: 0.0049 - categorical_accuracy: - ETA: 19s - loss: 0.0049 - categorical_accuracy: 0.998 - ETA: 19s - loss: 0.0048 - categor - ETA: 17s - l - ETA: 13s - loss: 0.0049 - categorical_accuracy - ETA: 13s - loss: 0.0048 - categorical_accuracy:  - ETA: 12s - loss: 0.0047 - catego - ETA: 10s - loss: 0.0043 - categorical_acc - ETA: 7s - loss: 0.0046 - catego - ETA: 3s - loss: 0.0043 - categorical_accuracy - ETA - ETA: 1s - loss: 0.0056 \n",
      "Epoch 37/40\n",
      "403/403 [==============================] - 49s 121ms/step - loss: 0.0070 - categorical_accuracy: 0.9988 - val_loss: 0.0876 - val_categorical_accuracy: 0.9785s: 0.0040 - cate - ETA: 10s - loss: 0.0036 - categorical_ac - ETA: 9s - l - ETA: 7s - loss: 0.0086 -  - ETA: 6s - l - ETA: 4s - loss: 0.0 - ETA: 3s - loss: 0.0076 - categorical_accuracy: 0.99 - ETA: 3s - loss: 0.0076 - categorical_accuracy - ETA: 2s - loss: 0.007 - ETA: 1s - loss: 0.0072 - categorical_accuracy:  - ETA: 1s - loss: 0.0071 - \n",
      "Epoch 38/40\n",
      "403/403 [==============================] - 49s 122ms/step - loss: 0.0109 - categorical_accuracy: 0.9975 - val_loss: 0.0787 - val_categorical_accuracy: 0.9792s: 7.1577e-04 - categorical_accuracy: 1 - ETA: 29s - loss: 6.6511e-04 - categorical_accuracy:  - ETA: 29s - loss: 6.1842e-04 - categ - ETA: 27s - loss: 0.0039 - categorical_accura - ETA: 26s - loss: 0.0132 - categorical_accuracy: - ETA: 25s - loss: 0.0124 - categorical_accuracy: 0.9 - ETA: 25s -  -  - ETA: 3s - loss: 0.0 - ETA: 1s - loss: 0.0112 - categorical_accuracy: 0.99 - ETA: 1s - loss:\n",
      "Epoch 39/40\n",
      "403/403 [==============================] - 49s 121ms/step - loss: 0.0077 - categorical_accuracy: 0.9978 - val_loss: 0.0897 - val_categorical_accuracy: 0.9790- loss: 0.0139 - categorical_accuracy: 0.9 - ETA: 22s - loss: 0.0137 -  - ETA: 19s - loss: 0.0119 - categorical_accuracy: 0.9 - ETA: 19s - loss: 0.0117 - categorical_accur - ETA: 18s - loss: 0.0110 - categorical_accura - ETA: 17s - loss: 0.0107 - categorical_accur - ETA: 16s - loss: 0.0104 - categorical_accurac - ETA: 15s - loss: 0.0101 - categorical_accuracy: - ETA: 15s - loss: 0.0098 - categorical_accuracy: 0.997 - ETA: 14s - loss: 0.0097 - categorical_accuracy: - ETA: \n",
      "Epoch 40/40\n",
      "403/403 [==============================] - 49s 122ms/step - loss: 0.0081 - categorical_accuracy: 0.9978 - val_loss: 0.0821 - val_categorical_accuracy: 0.9765s: 4.4206 - ETA: 23s - loss: 0.0040 - categorical_accur - ETA: 22s - loss: 0.0037 - categorical_accurac - ETA: 21s - loss: 0.0036 - categorical_accuracy - ETA: 21s - loss: 0.0034 - categorical_accu - ETA: 20s - loss: 0.0032 - categorical_accuracy: 0. - ETA: 19s - - ETA: 15s - lo - ETA: 12s - loss: 0.0033 - categorical_accuracy: 0.998 - ETA: 12s - loss: 0.0033 - ca - ETA: 9s - - E - ETA: 0s - loss: 0.0083 - categorical_accuracy: 0.99 - ETA: 0s - loss: 0.0083 - categorical_ac\n"
     ]
    }
   ],
   "source": [
    "h3=history(iv3,generator_train,generator_test)"
   ]
  },
  {
   "cell_type": "code",
   "execution_count": 20,
   "metadata": {},
   "outputs": [],
   "source": [
    "iv3.save(\"H:/ResearchWork/Brain Tumor/Models/iv3.h5\")"
   ]
  },
  {
   "cell_type": "code",
   "execution_count": 21,
   "metadata": {},
   "outputs": [],
   "source": [
    "history_to_CSV(\"Inception v3\",h3)"
   ]
  },
  {
   "cell_type": "code",
   "execution_count": 22,
   "metadata": {},
   "outputs": [
    {
     "data": {
      "image/png": "[encoded data removed]",
      "text/plain": [
       "<Figure size 432x288 with 1 Axes>"
      ]
     },
     "metadata": {
      "needs_background": "light"
     },
     "output_type": "display_data"
    },
    {
     "data": {
      "image/png": "[encoded data removed]",
      "text/plain": [
       "<Figure size 432x288 with 1 Axes>"
      ]
     },
     "metadata": {
      "needs_background": "light"
     },
     "output_type": "display_data"
    }
   ],
   "source": [
    "plotGraph(\"Inception v3\",h3)"
   ]
  },
  {
   "cell_type": "code",
   "execution_count": 23,
   "metadata": {},
   "outputs": [
    {
     "name": "stderr",
     "output_type": "stream",
     "text": [
      "C:\\Users\\Dipto\\anaconda3\\envs\\tf_gpu\\lib\\site-packages\\tensorflow\\python\\keras\\engine\\training.py:2001: UserWarning: `Model.predict_generator` is deprecated and will be removed in a future version. Please use `Model.predict`, which supports generators.\n",
      "  warnings.warn('`Model.predict_generator` is deprecated and '\n"
     ]
    },
    {
     "name": "stdout",
     "output_type": "stream",
     "text": [
      "Classification Report\n",
      "              precision    recall  f1-score   support\n",
      "\n",
      "      Normal     0.9824    0.9859    0.9841      3054\n",
      "    Affected     0.9599    0.9501    0.9549      1082\n",
      "\n",
      "    accuracy                         0.9765      4136\n",
      "   macro avg     0.9711    0.9680    0.9695      4136\n",
      "weighted avg     0.9765    0.9765    0.9765      4136\n",
      "\n"
     ]
    },
    {
     "data": {
      "image/png": "[encoded data removed]",
      "text/plain": [
       "<Figure size 468x432 with 2 Axes>"
      ]
     },
     "metadata": {
      "needs_background": "light"
     },
     "output_type": "display_data"
    }
   ],
   "source": [
    "generate_report(\"Inception v3\",iv3)"
   ]
  },
  {
   "cell_type": "markdown",
   "metadata": {
    "id": "rA5B1jKpgC9u"
   },
   "source": [
    "# **ResNet50**"
   ]
  },
  {
   "cell_type": "code",
   "execution_count": 17,
   "metadata": {
    "id": "lKQr0MgpgJWc"
   },
   "outputs": [
    {
     "name": "stdout",
     "output_type": "stream",
     "text": [
      "input_3\n",
      "conv1_pad\n",
      "conv1_conv\n",
      "conv1_bn\n",
      "conv1_relu\n",
      "pool1_pad\n",
      "pool1_pool\n",
      "conv2_block1_1_conv\n",
      "conv2_block1_1_bn\n",
      "conv2_block1_1_relu\n",
      "conv2_block1_2_conv\n",
      "conv2_block1_2_bn\n",
      "conv2_block1_2_relu\n",
      "conv2_block1_0_conv\n",
      "conv2_block1_3_conv\n",
      "conv2_block1_0_bn\n",
      "conv2_block1_3_bn\n",
      "conv2_block1_add\n",
      "conv2_block1_out\n",
      "conv2_block2_1_conv\n",
      "conv2_block2_1_bn\n",
      "conv2_block2_1_relu\n",
      "conv2_block2_2_conv\n",
      "conv2_block2_2_bn\n",
      "conv2_block2_2_relu\n",
      "conv2_block2_3_conv\n",
      "conv2_block2_3_bn\n",
      "conv2_block2_add\n",
      "conv2_block2_out\n",
      "conv2_block3_1_conv\n",
      "conv2_block3_1_bn\n",
      "conv2_block3_1_relu\n",
      "conv2_block3_2_conv\n",
      "conv2_block3_2_bn\n",
      "conv2_block3_2_relu\n",
      "conv2_block3_3_conv\n",
      "conv2_block3_3_bn\n",
      "conv2_block3_add\n",
      "conv2_block3_out\n",
      "conv3_block1_1_conv\n",
      "conv3_block1_1_bn\n",
      "conv3_block1_1_relu\n",
      "conv3_block1_2_conv\n",
      "conv3_block1_2_bn\n",
      "conv3_block1_2_relu\n",
      "conv3_block1_0_conv\n",
      "conv3_block1_3_conv\n",
      "conv3_block1_0_bn\n",
      "conv3_block1_3_bn\n",
      "conv3_block1_add\n",
      "conv3_block1_out\n",
      "conv3_block2_1_conv\n",
      "conv3_block2_1_bn\n",
      "conv3_block2_1_relu\n",
      "conv3_block2_2_conv\n",
      "conv3_block2_2_bn\n",
      "conv3_block2_2_relu\n",
      "conv3_block2_3_conv\n",
      "conv3_block2_3_bn\n",
      "conv3_block2_add\n",
      "conv3_block2_out\n",
      "conv3_block3_1_conv\n",
      "conv3_block3_1_bn\n",
      "conv3_block3_1_relu\n",
      "conv3_block3_2_conv\n",
      "conv3_block3_2_bn\n",
      "conv3_block3_2_relu\n",
      "conv3_block3_3_conv\n",
      "conv3_block3_3_bn\n",
      "conv3_block3_add\n",
      "conv3_block3_out\n",
      "conv3_block4_1_conv\n",
      "conv3_block4_1_bn\n",
      "conv3_block4_1_relu\n",
      "conv3_block4_2_conv\n",
      "conv3_block4_2_bn\n",
      "conv3_block4_2_relu\n",
      "conv3_block4_3_conv\n",
      "conv3_block4_3_bn\n",
      "conv3_block4_add\n",
      "conv3_block4_out\n",
      "conv4_block1_1_conv\n",
      "conv4_block1_1_bn\n",
      "conv4_block1_1_relu\n",
      "conv4_block1_2_conv\n",
      "conv4_block1_2_bn\n",
      "conv4_block1_2_relu\n",
      "conv4_block1_0_conv\n",
      "conv4_block1_3_conv\n",
      "conv4_block1_0_bn\n",
      "conv4_block1_3_bn\n",
      "conv4_block1_add\n",
      "conv4_block1_out\n",
      "conv4_block2_1_conv\n",
      "conv4_block2_1_bn\n",
      "conv4_block2_1_relu\n",
      "conv4_block2_2_conv\n",
      "conv4_block2_2_bn\n",
      "conv4_block2_2_relu\n",
      "conv4_block2_3_conv\n",
      "conv4_block2_3_bn\n",
      "conv4_block2_add\n",
      "conv4_block2_out\n",
      "conv4_block3_1_conv\n",
      "conv4_block3_1_bn\n",
      "conv4_block3_1_relu\n",
      "conv4_block3_2_conv\n",
      "conv4_block3_2_bn\n",
      "conv4_block3_2_relu\n",
      "conv4_block3_3_conv\n",
      "conv4_block3_3_bn\n",
      "conv4_block3_add\n",
      "conv4_block3_out\n",
      "conv4_block4_1_conv\n",
      "conv4_block4_1_bn\n",
      "conv4_block4_1_relu\n",
      "conv4_block4_2_conv\n",
      "conv4_block4_2_bn\n",
      "conv4_block4_2_relu\n",
      "conv4_block4_3_conv\n",
      "conv4_block4_3_bn\n",
      "conv4_block4_add\n",
      "conv4_block4_out\n",
      "conv4_block5_1_conv\n",
      "conv4_block5_1_bn\n",
      "conv4_block5_1_relu\n",
      "conv4_block5_2_conv\n",
      "conv4_block5_2_bn\n",
      "conv4_block5_2_relu\n",
      "conv4_block5_3_conv\n",
      "conv4_block5_3_bn\n",
      "conv4_block5_add\n",
      "conv4_block5_out\n",
      "conv4_block6_1_conv\n",
      "conv4_block6_1_bn\n",
      "conv4_block6_1_relu\n",
      "conv4_block6_2_conv\n",
      "conv4_block6_2_bn\n",
      "conv4_block6_2_relu\n",
      "conv4_block6_3_conv\n",
      "conv4_block6_3_bn\n",
      "conv4_block6_add\n",
      "conv4_block6_out\n",
      "conv5_block1_1_conv\n",
      "conv5_block1_1_bn\n",
      "conv5_block1_1_relu\n",
      "conv5_block1_2_conv\n",
      "conv5_block1_2_bn\n",
      "conv5_block1_2_relu\n",
      "conv5_block1_0_conv\n",
      "conv5_block1_3_conv\n",
      "conv5_block1_0_bn\n",
      "conv5_block1_3_bn\n",
      "conv5_block1_add\n",
      "conv5_block1_out\n",
      "conv5_block2_1_conv\n",
      "conv5_block2_1_bn\n",
      "conv5_block2_1_relu\n",
      "conv5_block2_2_conv\n",
      "conv5_block2_2_bn\n",
      "conv5_block2_2_relu\n",
      "conv5_block2_3_conv\n",
      "conv5_block2_3_bn\n",
      "conv5_block2_add\n",
      "conv5_block2_out\n",
      "conv5_block3_1_conv\n",
      "conv5_block3_1_bn\n",
      "conv5_block3_1_relu\n",
      "conv5_block3_2_conv\n",
      "conv5_block3_2_bn\n",
      "conv5_block3_2_relu\n",
      "conv5_block3_3_conv\n",
      "conv5_block3_3_bn\n",
      "conv5_block3_add\n",
      "conv5_block3_out\n",
      "Last Layer : conv5_block3_out\n"
     ]
    }
   ],
   "source": [
    "model4 = ResNet50(include_top=False,input_shape=(224, 224, 3), weights='imagenet')\n",
    "l4=trainableLayers(model4)\n",
    "print(\"Last Layer : \"+l4)"
   ]
  },
  {
   "cell_type": "code",
   "execution_count": 18,
   "metadata": {
    "id": "uSchxobwsBdv"
   },
   "outputs": [],
   "source": [
    "layer4 = model4.get_layer(l4)\n",
    "r50=transferLayer(model4,layer4)\n",
    "# plotmodel(r50)"
   ]
  },
  {
   "cell_type": "code",
   "execution_count": 19,
   "metadata": {
    "id": "9FSYjNGaoOn3"
   },
   "outputs": [
    {
     "name": "stdout",
     "output_type": "stream",
     "text": [
      "Model: \"sequential_2\"\n",
      "_________________________________________________________________\n",
      "Layer (type)                 Output Shape              Param #   \n",
      "=================================================================\n",
      "functional_5 (Functional)    (None, 7, 7, 2048)        23587712  \n",
      "_________________________________________________________________\n",
      "flatten_2 (Flatten)          (None, 100352)            0         \n",
      "_________________________________________________________________\n",
      "dropout_2 (Dropout)          (None, 100352)            0         \n",
      "_________________________________________________________________\n",
      "dense_4 (Dense)              (None, 512)               51380736  \n",
      "_________________________________________________________________\n",
      "dense_5 (Dense)              (None, 2)                 1026      \n",
      "=================================================================\n",
      "Total params: 74,969,474\n",
      "Trainable params: 74,916,354\n",
      "Non-trainable params: 53,120\n",
      "_________________________________________________________________\n"
     ]
    }
   ],
   "source": [
    "r50.summary()"
   ]
  },
  {
   "cell_type": "markdown",
   "metadata": {
    "id": "2a-HZx6qpSZA"
   },
   "source": [
    "# Cross Validation-ResNet50"
   ]
  },
  {
   "cell_type": "code",
   "execution_count": 27,
   "metadata": {
    "id": "2KtXolVdnR5b"
   },
   "outputs": [
    {
     "name": "stdout",
     "output_type": "stream",
     "text": [
      "Epoch 1/40\n"
     ]
    },
    {
     "name": "stderr",
     "output_type": "stream",
     "text": [
      "C:\\Users\\Dipto\\anaconda3\\envs\\tf_gpu\\lib\\site-packages\\tensorflow\\python\\keras\\optimizer_v2\\optimizer_v2.py:374: UserWarning: The `lr` argument is deprecated, use `learning_rate` instead.\n",
      "  warnings.warn(\n",
      "C:\\Users\\Dipto\\anaconda3\\envs\\tf_gpu\\lib\\site-packages\\tensorflow\\python\\keras\\engine\\training.py:1940: UserWarning: `Model.fit_generator` is deprecated and will be removed in a future version. Please use `Model.fit`, which supports generators.\n",
      "  warnings.warn('`Model.fit_generator` is deprecated and '\n"
     ]
    },
    {
     "name": "stdout",
     "output_type": "stream",
     "text": [
      "403/403 [==============================] - 69s 156ms/step - loss: 0.3032 - categorical_accuracy: 0.9060 - val_loss: 2.9383 - val_categorical_accuracy: 0.7389\n",
      "Epoch 2/40\n",
      "403/403 [==============================] - 62s 154ms/step - loss: 0.1133 - categorical_accuracy: 0.9625 - val_loss: 1.4316 - val_categorical_accuracy: 0.5592\n",
      "Epoch 3/40\n",
      "403/403 [==============================] - 62s 154ms/step - loss: 0.0914 - categorical_accuracy: 0.9743 - val_loss: 0.4172 - val_categorical_accuracy: 0.8702\n",
      "Epoch 4/40\n",
      "403/403 [==============================] - 61s 152ms/step - loss: 0.0557 - categorical_accuracy: 0.9823 - val_loss: 0.2192 - val_categorical_accuracy: 0.9284\n",
      "Epoch 5/40\n",
      "403/403 [==============================] - 61s 152ms/step - loss: 0.0623 - categorical_accuracy: 0.9826 - val_loss: 0.1060 - val_categorical_accuracy: 0.9654\n",
      "Epoch 6/40\n",
      "403/403 [==============================] - 61s 152ms/step - loss: 0.0220 - categorical_accuracy: 0.9932 - val_loss: 0.0992 - val_categorical_accuracy: 0.9736\n",
      "Epoch 7/40\n",
      "403/403 [==============================] - 61s 152ms/step - loss: 0.0357 - categorical_accuracy: 0.9898 - val_loss: 0.0890 - val_categorical_accuracy: 0.9751\n",
      "Epoch 8/40\n",
      "403/403 [==============================] - 61s 152ms/step - loss: 0.0274 - categorical_accuracy: 0.9919 - val_loss: 0.3110 - val_categorical_accuracy: 0.9250\n",
      "Epoch 9/40\n",
      "403/403 [==============================] - 61s 152ms/step - loss: 0.0213 - categorical_accuracy: 0.9932 - val_loss: 0.1186 - val_categorical_accuracy: 0.9722\n",
      "Epoch 10/40\n",
      "403/403 [==============================] - 61s 152ms/step - loss: 0.0180 - categorical_accuracy: 0.9938 - val_loss: 0.3837 - val_categorical_accuracy: 0.9113\n",
      "Epoch 11/40\n",
      "403/403 [==============================] - 61s 152ms/step - loss: 0.0286 - categorical_accuracy: 0.9907 - val_loss: 0.1300 - val_categorical_accuracy: 0.9707\n",
      "Epoch 12/40\n",
      "403/403 [==============================] - 61s 152ms/step - loss: 0.0200 - categorical_accuracy: 0.9944 - val_loss: 0.2573 - val_categorical_accuracy: 0.9497\n",
      "Epoch 13/40\n",
      "403/403 [==============================] - 61s 152ms/step - loss: 0.0215 - categorical_accuracy: 0.9916 - val_loss: 0.1918 - val_categorical_accuracy: 0.9662\n",
      "Epoch 14/40\n",
      "403/403 [==============================] - 61s 152ms/step - loss: 0.0146 - categorical_accuracy: 0.9963 - val_loss: 0.1312 - val_categorical_accuracy: 0.9674\n",
      "Epoch 15/40\n",
      "403/403 [==============================] - 61s 152ms/step - loss: 0.0127 - categorical_accuracy: 0.9963 - val_loss: 0.1184 - val_categorical_accuracy: 0.9790\n",
      "Epoch 16/40\n",
      "403/403 [==============================] - 61s 152ms/step - loss: 0.0099 - categorical_accuracy: 0.9972 - val_loss: 0.2394 - val_categorical_accuracy: 0.9550\n",
      "Epoch 17/40\n",
      "403/403 [==============================] - 61s 152ms/step - loss: 0.0193 - categorical_accuracy: 0.9944 - val_loss: 0.0931 - val_categorical_accuracy: 0.9780\n",
      "Epoch 18/40\n",
      "403/403 [==============================] - 61s 152ms/step - loss: 0.0095 - categorical_accuracy: 0.9972 - val_loss: 0.0910 - val_categorical_accuracy: 0.9790\n",
      "Epoch 19/40\n",
      "403/403 [==============================] - 61s 152ms/step - loss: 0.0087 - categorical_accuracy: 0.9969 - val_loss: 0.0812 - val_categorical_accuracy: 0.9831\n",
      "Epoch 20/40\n",
      "403/403 [==============================] - 61s 152ms/step - loss: 0.0087 - categorical_accuracy: 0.9981 - val_loss: 0.1001 - val_categorical_accuracy: 0.9792\n",
      "Epoch 21/40\n",
      "403/403 [==============================] - 61s 152ms/step - loss: 0.0112 - categorical_accuracy: 0.9969 - val_loss: 0.1126 - val_categorical_accuracy: 0.9746\n",
      "Epoch 22/40\n",
      "403/403 [==============================] - 61s 152ms/step - loss: 0.0158 - categorical_accuracy: 0.9953 - val_loss: 0.3042 - val_categorical_accuracy: 0.9594\n",
      "Epoch 23/40\n",
      "403/403 [==============================] - 61s 152ms/step - loss: 0.0078 - categorical_accuracy: 0.9972 - val_loss: 0.1466 - val_categorical_accuracy: 0.9698\n",
      "Epoch 24/40\n",
      "403/403 [==============================] - 61s 153ms/step - loss: 0.0189 - categorical_accuracy: 0.9960 - val_loss: 0.1949 - val_categorical_accuracy: 0.9628\n",
      "Epoch 25/40\n",
      "403/403 [==============================] - 61s 153ms/step - loss: 0.0098 - categorical_accuracy: 0.9975 - val_loss: 0.1103 - val_categorical_accuracy: 0.9811\n",
      "Epoch 26/40\n",
      "403/403 [==============================] - 61s 152ms/step - loss: 0.0168 - categorical_accuracy: 0.9975 - val_loss: 0.0815 - val_categorical_accuracy: 0.9853\n",
      "Epoch 27/40\n",
      "403/403 [==============================] - 61s 152ms/step - loss: 0.0058 - categorical_accuracy: 0.9984 - val_loss: 0.0935 - val_categorical_accuracy: 0.9865\n",
      "Epoch 28/40\n",
      "403/403 [==============================] - 61s 153ms/step - loss: 0.0168 - categorical_accuracy: 0.9957 - val_loss: 0.8163 - val_categorical_accuracy: 0.8665\n",
      "Epoch 29/40\n",
      "403/403 [==============================] - 61s 152ms/step - loss: 0.0153 - categorical_accuracy: 0.9960 - val_loss: 0.1009 - val_categorical_accuracy: 0.9824\n",
      "Epoch 30/40\n",
      "403/403 [==============================] - 61s 152ms/step - loss: 0.0139 - categorical_accuracy: 0.9972 - val_loss: 0.1381 - val_categorical_accuracy: 0.9664\n",
      "Epoch 31/40\n",
      "403/403 [==============================] - 61s 153ms/step - loss: 0.0052 - categorical_accuracy: 0.9975 - val_loss: 0.1197 - val_categorical_accuracy: 0.9811\n",
      "Epoch 32/40\n",
      "403/403 [==============================] - 61s 153ms/step - loss: 0.0026 - categorical_accuracy: 0.9991 - val_loss: 0.0725 - val_categorical_accuracy: 0.9857\n",
      "Epoch 33/40\n",
      "403/403 [==============================] - 61s 153ms/step - loss: 0.0106 - categorical_accuracy: 0.9984 - val_loss: 0.2708 - val_categorical_accuracy: 0.9628\n",
      "Epoch 34/40\n",
      "403/403 [==============================] - 61s 152ms/step - loss: 0.0114 - categorical_accuracy: 0.9969 - val_loss: 0.1148 - val_categorical_accuracy: 0.9753\n",
      "Epoch 35/40\n",
      "403/403 [==============================] - 61s 152ms/step - loss: 0.0115 - categorical_accuracy: 0.9972 - val_loss: 0.0583 - val_categorical_accuracy: 0.9869\n",
      "Epoch 36/40\n",
      "403/403 [==============================] - 61s 153ms/step - loss: 0.0113 - categorical_accuracy: 0.9975 - val_loss: 0.1347 - val_categorical_accuracy: 0.9780\n",
      "Epoch 37/40\n",
      "403/403 [==============================] - 61s 153ms/step - loss: 0.0125 - categorical_accuracy: 0.9969 - val_loss: 0.1352 - val_categorical_accuracy: 0.9785\n",
      "Epoch 38/40\n",
      "403/403 [==============================] - 61s 152ms/step - loss: 0.0105 - categorical_accuracy: 0.9988 - val_loss: 0.1120 - val_categorical_accuracy: 0.9758\n",
      "Epoch 39/40\n",
      "403/403 [==============================] - 61s 152ms/step - loss: 0.0024 - categorical_accuracy: 0.9988 - val_loss: 0.0595 - val_categorical_accuracy: 0.9891\n",
      "Epoch 40/40\n",
      "403/403 [==============================] - 61s 153ms/step - loss: 0.0065 - categorical_accuracy: 0.9984 - val_loss: 0.0794 - val_categorical_accuracy: 0.9889\n"
     ]
    }
   ],
   "source": [
    "h4=history(r50,generator_train,generator_test)"
   ]
  },
  {
   "cell_type": "code",
   "execution_count": 28,
   "metadata": {},
   "outputs": [
    {
     "name": "stderr",
     "output_type": "stream",
     "text": [
      "C:\\Users\\Dipto\\anaconda3\\envs\\tf_gpu\\lib\\site-packages\\tensorflow\\python\\keras\\utils\\generic_utils.py:494: CustomMaskWarning: Custom mask layers require a config and must override get_config. When loading, the custom mask layer must be passed to the custom_objects argument.\n",
      "  warnings.warn('Custom mask layers require a config and must override '\n"
     ]
    }
   ],
   "source": [
    "r50.save(\"H:/ResearchWork/Brain Tumor/Models/r50.h5\")"
   ]
  },
  {
   "cell_type": "code",
   "execution_count": 29,
   "metadata": {},
   "outputs": [],
   "source": [
    "history_to_CSV(\"ResNet50\",h4)"
   ]
  },
  {
   "cell_type": "code",
   "execution_count": 30,
   "metadata": {},
   "outputs": [
    {
     "data": {
      "image/png": "[encoded data removed]",
      "text/plain": [
       "<Figure size 432x288 with 1 Axes>"
      ]
     },
     "metadata": {
      "needs_background": "light"
     },
     "output_type": "display_data"
    },
    {
     "data": {
      "image/png": "[encoded data removed]",
      "text/plain": [
       "<Figure size 432x288 with 1 Axes>"
      ]
     },
     "metadata": {
      "needs_background": "light"
     },
     "output_type": "display_data"
    }
   ],
   "source": [
    "plotGraph(\"ResNet50\",h4)"
   ]
  },
  {
   "cell_type": "code",
   "execution_count": 31,
   "metadata": {},
   "outputs": [
    {
     "name": "stderr",
     "output_type": "stream",
     "text": [
      "C:\\Users\\Dipto\\anaconda3\\envs\\tf_gpu\\lib\\site-packages\\tensorflow\\python\\keras\\engine\\training.py:2001: UserWarning: `Model.predict_generator` is deprecated and will be removed in a future version. Please use `Model.predict`, which supports generators.\n",
      "  warnings.warn('`Model.predict_generator` is deprecated and '\n"
     ]
    },
    {
     "name": "stdout",
     "output_type": "stream",
     "text": [
      "Classification Report\n",
      "              precision    recall  f1-score   support\n",
      "\n",
      "      Normal     0.9886    0.9964    0.9925      3054\n",
      "    Affected     0.9896    0.9677    0.9785      1082\n",
      "\n",
      "    accuracy                         0.9889      4136\n",
      "   macro avg     0.9891    0.9820    0.9855      4136\n",
      "weighted avg     0.9889    0.9889    0.9888      4136\n",
      "\n"
     ]
    },
    {
     "data": {
      "image/png": "[encoded data removed]",
      "text/plain": [
       "<Figure size 468x432 with 2 Axes>"
      ]
     },
     "metadata": {
      "needs_background": "light"
     },
     "output_type": "display_data"
    }
   ],
   "source": [
    "generate_report(\"ResNet50\",r50)"
   ]
  },
  {
   "cell_type": "markdown",
   "metadata": {
    "id": "1CB4XwIS2H1q"
   },
   "source": [
    "# **Ensemble Model**"
   ]
  },
  {
   "cell_type": "code",
   "execution_count": 20,
   "metadata": {
    "id": "dzB0bVzc2K66"
   },
   "outputs": [],
   "source": [
    "inputs = keras.Input(shape=(224,224,3))\n",
    "models=[vgg16(inputs),r50(inputs)]\n",
    "outputs = layers.average(models)\n",
    "ensemble_model = keras.Model(inputs=inputs, outputs=outputs)"
   ]
  },
  {
   "cell_type": "code",
   "execution_count": 21,
   "metadata": {
    "id": "X7nvDqeW3IZD"
   },
   "outputs": [
    {
     "name": "stdout",
     "output_type": "stream",
     "text": [
      "Model: \"functional_7\"\n",
      "__________________________________________________________________________________________________\n",
      "Layer (type)                    Output Shape         Param #     Connected to                     \n",
      "==================================================================================================\n",
      "input_4 (InputLayer)            [(None, 224, 224, 3) 0                                            \n",
      "__________________________________________________________________________________________________\n",
      "sequential (Sequential)         (None, 2)            27561282    input_4[0][0]                    \n",
      "__________________________________________________________________________________________________\n",
      "sequential_2 (Sequential)       (None, 2)            74969474    input_4[0][0]                    \n",
      "__________________________________________________________________________________________________\n",
      "average (Average)               (None, 2)            0           sequential[0][0]                 \n",
      "                                                                 sequential_2[0][0]               \n",
      "==================================================================================================\n",
      "Total params: 102,530,756\n",
      "Trainable params: 102,477,636\n",
      "Non-trainable params: 53,120\n",
      "__________________________________________________________________________________________________\n"
     ]
    }
   ],
   "source": [
    "ensemble_model.summary()"
   ]
  },
  {
   "cell_type": "code",
   "execution_count": 22,
   "metadata": {
    "id": "m-TapLOZ3O0T"
   },
   "outputs": [
    {
     "name": "stdout",
     "output_type": "stream",
     "text": [
      "Epoch 1/40\n",
      "  2/403 [..............................] - ETA: 32s - loss: 0.4074 - categorical_accuracy: 0.9375WARNING:tensorflow:Callbacks method `on_train_batch_end` is slow compared to the batch time (batch time: 0.0610s vs `on_train_batch_end` time: 0.1020s). Check your callbacks.\n",
      "403/403 [==============================] - 94s 233ms/step - loss: 0.1724 - categorical_accuracy: 0.8927 - val_loss: 0.2531 - val_categorical_accuracy: 0.7386\n",
      "Epoch 2/40\n",
      "403/403 [==============================] - 94s 233ms/step - loss: 0.0895 - categorical_accuracy: 0.9659 - val_loss: 0.5222 - val_categorical_accuracy: 0.7764\n",
      "Epoch 3/40\n",
      "403/403 [==============================] - 95s 236ms/step - loss: 0.0686 - categorical_accuracy: 0.9736 - val_loss: 0.4216 - val_categorical_accuracy: 0.6922\n",
      "Epoch 4/40\n",
      "403/403 [==============================] - 95s 235ms/step - loss: 0.0399 - categorical_accuracy: 0.9836 - val_loss: 0.1997 - val_categorical_accuracy: 0.9229\n",
      "Epoch 5/40\n",
      "403/403 [==============================] - 95s 236ms/step - loss: 0.0404 - categorical_accuracy: 0.9867 - val_loss: 0.0966 - val_categorical_accuracy: 0.9495\n",
      "Epoch 6/40\n",
      "403/403 [==============================] - 94s 234ms/step - loss: 0.0399 - categorical_accuracy: 0.9854 - val_loss: 0.1152 - val_categorical_accuracy: 0.9642\n",
      "Epoch 7/40\n",
      "403/403 [==============================] - 95s 236ms/step - loss: 0.0394 - categorical_accuracy: 0.9873 - val_loss: 0.0508 - val_categorical_accuracy: 0.9785\n",
      "Epoch 8/40\n",
      "403/403 [==============================] - 95s 235ms/step - loss: 0.0245 - categorical_accuracy: 0.9913 - val_loss: 0.0593 - val_categorical_accuracy: 0.9770\n",
      "Epoch 9/40\n",
      "403/403 [==============================] - 97s 241ms/step - loss: 0.0317 - categorical_accuracy: 0.9891 - val_loss: 0.0581 - val_categorical_accuracy: 0.9828\n",
      "Epoch 10/40\n",
      "403/403 [==============================] - 98s 243ms/step - loss: 0.0235 - categorical_accuracy: 0.9932 - val_loss: 0.0933 - val_categorical_accuracy: 0.9645\n",
      "Epoch 11/40\n",
      "403/403 [==============================] - 97s 241ms/step - loss: 0.0336 - categorical_accuracy: 0.9888 - val_loss: 0.0505 - val_categorical_accuracy: 0.9746\n",
      "Epoch 12/40\n",
      "403/403 [==============================] - 95s 235ms/step - loss: 0.0249 - categorical_accuracy: 0.9898 - val_loss: 0.0700 - val_categorical_accuracy: 0.9778\n",
      "Epoch 13/40\n",
      "403/403 [==============================] - 92s 229ms/step - loss: 0.0152 - categorical_accuracy: 0.9935 - val_loss: 0.0708 - val_categorical_accuracy: 0.9744\n",
      "Epoch 14/40\n",
      "403/403 [==============================] - 92s 229ms/step - loss: 0.0223 - categorical_accuracy: 0.9922 - val_loss: 0.0879 - val_categorical_accuracy: 0.9797\n",
      "Epoch 15/40\n",
      "403/403 [==============================] - 98s 244ms/step - loss: 0.0226 - categorical_accuracy: 0.9916 - val_loss: 0.1133 - val_categorical_accuracy: 0.9707\n",
      "Epoch 16/40\n",
      "403/403 [==============================] - 99s 246ms/step - loss: 0.0162 - categorical_accuracy: 0.9944 - val_loss: 0.0721 - val_categorical_accuracy: 0.9741\n",
      "Epoch 17/40\n",
      "403/403 [==============================] - 96s 239ms/step - loss: 0.0143 - categorical_accuracy: 0.9916 - val_loss: 0.0543 - val_categorical_accuracy: 0.9840\n",
      "Epoch 18/40\n",
      "403/403 [==============================] - 97s 240ms/step - loss: 0.0227 - categorical_accuracy: 0.9916 - val_loss: 0.0938 - val_categorical_accuracy: 0.9724\n",
      "Epoch 19/40\n",
      "403/403 [==============================] - 96s 239ms/step - loss: 0.0152 - categorical_accuracy: 0.9926 - val_loss: 0.1214 - val_categorical_accuracy: 0.9770\n",
      "Epoch 20/40\n",
      "403/403 [==============================] - 95s 235ms/step - loss: 0.0186 - categorical_accuracy: 0.9938 - val_loss: 0.0770 - val_categorical_accuracy: 0.9824\n",
      "Epoch 21/40\n",
      "403/403 [==============================] - 97s 240ms/step - loss: 0.0188 - categorical_accuracy: 0.9947 - val_loss: 0.0446 - val_categorical_accuracy: 0.9857\n",
      "Epoch 22/40\n",
      "403/403 [==============================] - 98s 242ms/step - loss: 0.0114 - categorical_accuracy: 0.9944 - val_loss: 0.0641 - val_categorical_accuracy: 0.9773\n",
      "Epoch 23/40\n",
      "403/403 [==============================] - 100s 247ms/step - loss: 0.0102 - categorical_accuracy: 0.9938 - val_loss: 0.0862 - val_categorical_accuracy: 0.9831\n",
      "Epoch 24/40\n",
      "403/403 [==============================] - 96s 239ms/step - loss: 0.0186 - categorical_accuracy: 0.9944 - val_loss: 0.0560 - val_categorical_accuracy: 0.9833\n",
      "Epoch 25/40\n",
      "403/403 [==============================] - 96s 239ms/step - loss: 0.0087 - categorical_accuracy: 0.9966 - val_loss: 0.0890 - val_categorical_accuracy: 0.9712\n",
      "Epoch 26/40\n",
      "403/403 [==============================] - 95s 237ms/step - loss: 0.0130 - categorical_accuracy: 0.9932 - val_loss: 0.1753 - val_categorical_accuracy: 0.9427\n",
      "Epoch 27/40\n",
      "403/403 [==============================] - 97s 239ms/step - loss: 0.0088 - categorical_accuracy: 0.9950 - val_loss: 0.1318 - val_categorical_accuracy: 0.9659\n",
      "Epoch 28/40\n",
      "403/403 [==============================] - 97s 240ms/step - loss: 0.0191 - categorical_accuracy: 0.9935 - val_loss: 0.1175 - val_categorical_accuracy: 0.9739\n",
      "Epoch 29/40\n",
      "403/403 [==============================] - 94s 233ms/step - loss: 0.0152 - categorical_accuracy: 0.9957 - val_loss: 0.0760 - val_categorical_accuracy: 0.9739\n",
      "Epoch 30/40\n",
      "403/403 [==============================] - 97s 241ms/step - loss: 0.0137 - categorical_accuracy: 0.9944 - val_loss: 0.0759 - val_categorical_accuracy: 0.9775\n",
      "Epoch 31/40\n",
      "403/403 [==============================] - 101s 250ms/step - loss: 0.0073 - categorical_accuracy: 0.9957 - val_loss: 0.0886 - val_categorical_accuracy: 0.9804\n",
      "Epoch 32/40\n",
      "403/403 [==============================] - 97s 241ms/step - loss: 0.0047 - categorical_accuracy: 0.9975 - val_loss: 0.0747 - val_categorical_accuracy: 0.9840\n",
      "Epoch 33/40\n",
      "403/403 [==============================] - 96s 239ms/step - loss: 0.0143 - categorical_accuracy: 0.9938 - val_loss: 0.0806 - val_categorical_accuracy: 0.9778\n",
      "Epoch 34/40\n",
      "403/403 [==============================] - 96s 239ms/step - loss: 0.0239 - categorical_accuracy: 0.9932 - val_loss: 0.1133 - val_categorical_accuracy: 0.9693\n",
      "Epoch 35/40\n",
      "403/403 [==============================] - 95s 235ms/step - loss: 0.0158 - categorical_accuracy: 0.9944 - val_loss: 0.1171 - val_categorical_accuracy: 0.9710\n",
      "Epoch 36/40\n",
      "403/403 [==============================] - 93s 232ms/step - loss: 0.0120 - categorical_accuracy: 0.9950 - val_loss: 0.1265 - val_categorical_accuracy: 0.9695\n",
      "Epoch 37/40\n",
      "403/403 [==============================] - 90s 224ms/step - loss: 0.0169 - categorical_accuracy: 0.9953 - val_loss: 0.0857 - val_categorical_accuracy: 0.9826\n",
      "Epoch 38/40\n",
      "403/403 [==============================] - 90s 224ms/step - loss: 0.0112 - categorical_accuracy: 0.9922 - val_loss: 0.0703 - val_categorical_accuracy: 0.9753\n",
      "Epoch 39/40\n",
      "403/403 [==============================] - 95s 236ms/step - loss: 0.0106 - categorical_accuracy: 0.9935 - val_loss: 0.0664 - val_categorical_accuracy: 0.9853\n",
      "Epoch 40/40\n",
      "403/403 [==============================] - 97s 241ms/step - loss: 0.0065 - categorical_accuracy: 0.9966 - val_loss: 0.0789 - val_categorical_accuracy: 0.9792\n"
     ]
    }
   ],
   "source": [
    "h6=history(ensemble_model,generator_train,generator_test)"
   ]
  },
  {
   "cell_type": "code",
   "execution_count": 31,
   "metadata": {},
   "outputs": [],
   "source": [
    "history_to_CSV(\"Ensemble Model\",h6)"
   ]
  },
  {
   "cell_type": "code",
   "execution_count": 29,
   "metadata": {},
   "outputs": [
    {
     "data": {
      "image/png": "[encoded data removed]",
      "text/plain": [
       "<Figure size 432x288 with 1 Axes>"
      ]
     },
     "metadata": {
      "needs_background": "light"
     },
     "output_type": "display_data"
    },
    {
     "data": {
      "image/png": "[encoded data removed]",
      "text/plain": [
       "<Figure size 432x288 with 1 Axes>"
      ]
     },
     "metadata": {
      "needs_background": "light"
     },
     "output_type": "display_data"
    }
   ],
   "source": [
    "plotGraph(\"Ensemble Model\",h6)"
   ]
  },
  {
   "cell_type": "code",
   "execution_count": 35,
   "metadata": {},
   "outputs": [
    {
     "name": "stdout",
     "output_type": "stream",
     "text": [
      "Classification Report\n",
      "              precision    recall  f1-score   support\n",
      "\n",
      "      Normal     0.9898    0.9820    0.9859      3054\n",
      "    Affected     0.9503    0.9713    0.9607      1082\n",
      "\n",
      "    accuracy                         0.9792      4136\n",
      "   macro avg     0.9700    0.9767    0.9733      4136\n",
      "weighted avg     0.9794    0.9792    0.9793      4136\n",
      "\n"
     ]
    },
    {
     "data": {
      "image/png": "[encoded data removed]",
      "text/plain": [
       "<Figure size 468x432 with 2 Axes>"
      ]
     },
     "metadata": {
      "needs_background": "light"
     },
     "output_type": "display_data"
    }
   ],
   "source": [
    "generate_report(\"Ensemble Model\",ensemble_model)"
   ]
  },
  {
   "cell_type": "code",
   "execution_count": null,
   "metadata": {},
   "outputs": [],
   "source": []
  },
  {
   "cell_type": "code",
   "execution_count": null,
   "metadata": {},
   "outputs": [],
   "source": []
  }
 ],
 "metadata": {
  "accelerator": "GPU",
  "colab": {
   "collapsed_sections": [],
   "name": "COVID_19_Ensemble-3.ipynb",
   "private_outputs": true,
   "provenance": []
  },
  "kernelspec": {
   "display_name": "Python 3",
   "language": "python",
   "name": "python3"
  },
  "language_info": {
   "codemirror_mode": {
    "name": "ipython",
    "version": 3
   },
   "file_extension": ".py",
   "mimetype": "text/x-python",
   "name": "python",
   "nbconvert_exporter": "python",
   "pygments_lexer": "ipython3",
   "version": "3.8.10"
  }
 },
 "nbformat": 4,
 "nbformat_minor": 1
}
